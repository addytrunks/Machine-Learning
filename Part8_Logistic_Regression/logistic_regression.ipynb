{
 "cells": [
  {
   "cell_type": "markdown",
   "metadata": {
    "colab_type": "text",
    "id": "0MRC0e0KhQ0S"
   },
   "source": [
    "# Logistic Regression"
   ]
  },
  {
   "cell_type": "markdown",
   "metadata": {
    "colab_type": "text",
    "id": "LWd1UlMnhT2s"
   },
   "source": [
    "## Importing the libraries"
   ]
  },
  {
   "cell_type": "code",
   "execution_count": 1,
   "metadata": {
    "colab": {},
    "colab_type": "code",
    "id": "YvGPUQaHhXfL"
   },
   "outputs": [],
   "source": [
    "import numpy as np\n",
    "import pandas as pd\n",
    "import matplotlib.pyplot as plt"
   ]
  },
  {
   "cell_type": "markdown",
   "metadata": {
    "colab_type": "text",
    "id": "K1VMqkGvhc3-"
   },
   "source": [
    "## Importing the dataset"
   ]
  },
  {
   "cell_type": "code",
   "execution_count": 2,
   "metadata": {
    "colab": {},
    "colab_type": "code",
    "id": "M52QDmyzhh9s"
   },
   "outputs": [],
   "source": [
    "dataset = pd.read_csv(\"Social_Network_Ads.csv\")\n",
    "X = dataset.iloc[:,:-1].values\n",
    "y = dataset.iloc[:,-1].values"
   ]
  },
  {
   "cell_type": "markdown",
   "metadata": {
    "colab_type": "text",
    "id": "YvxIPVyMhmKp"
   },
   "source": [
    "## Splitting the dataset into the Training set and Test set"
   ]
  },
  {
   "cell_type": "code",
   "execution_count": 13,
   "metadata": {},
   "outputs": [],
   "source": [
    "from sklearn.model_selection import train_test_split\n",
    "X_train,X_test,y_train,y_test=train_test_split(X,y,test_size=0.25,random_state=1)"
   ]
  },
  {
   "cell_type": "markdown",
   "metadata": {
    "colab_type": "text",
    "id": "kW3c7UYih0hT"
   },
   "source": [
    "## Feature Scaling"
   ]
  },
  {
   "cell_type": "code",
   "execution_count": 14,
   "metadata": {},
   "outputs": [
    {
     "name": "stdout",
     "output_type": "stream",
     "text": [
      "[[-0.11147471 -1.06666624]\n",
      " [ 0.18274006 -0.23672956]\n",
      " [-0.11147471  1.4527844 ]\n",
      " [ 0.18274006  1.57134678]\n",
      " [-1.09219061  1.4527844 ]\n",
      " [ 0.08466847 -0.11816717]\n",
      " [-1.68062015 -0.97774445]\n",
      " [ 1.16345596  0.59320712]\n",
      " [-0.60183266 -1.51127517]\n",
      " [ 1.06538437  2.1345181 ]\n",
      " [-0.30761789  0.089317  ]\n",
      " [ 0.18274006  0.11895759]\n",
      " [-0.2095463   0.089317  ]\n",
      " [ 1.06538437  1.83811214]\n",
      " [ 1.55574232  0.38572295]\n",
      " [ 1.84995709  1.89739333]\n",
      " [ 2.24224345  0.41536355]\n",
      " [-0.99411902 -0.32565134]\n",
      " [-0.89604743  0.53392593]\n",
      " [ 2.24224345  0.97853487]\n",
      " [ 0.28081165  0.17823878]\n",
      " [ 1.26152755  0.56356653]\n",
      " [ 0.67309801  2.07523691]\n",
      " [ 0.96731278 -0.77026028]\n",
      " [ 0.7711696  -1.27415041]\n",
      " [-1.09219061 -1.60019696]\n",
      " [ 2.04610027 -0.6516979 ]\n",
      " [ 1.16345596  0.14859819]\n",
      " [ 1.55574232 -1.03702564]\n",
      " [ 1.45767073  1.33422201]\n",
      " [ 0.18274006 -0.79990088]\n",
      " [-1.77869174  0.20787938]\n",
      " [-1.87676333  0.50428533]\n",
      " [ 1.94802868  0.14859819]\n",
      " [-0.99411902  0.44500414]\n",
      " [-0.69990425  0.32644176]\n",
      " [-1.48447697 -1.51127517]\n",
      " [-0.50376107  0.50428533]\n",
      " [ 1.26152755 -1.45199398]\n",
      " [-1.77869174 -1.303791  ]\n",
      " [ 0.96731278  2.22343989]\n",
      " [ 2.04610027  0.94889427]\n",
      " [-0.30761789  1.36386261]\n",
      " [-1.38640538 -0.08852658]\n",
      " [ 1.84995709 -0.26637015]\n",
      " [-0.60183266  1.4527844 ]\n",
      " [ 1.06538437 -1.00738505]\n",
      " [ 0.96731278  1.30458142]\n",
      " [ 0.18274006  0.29680117]\n",
      " [ 1.45767073 -0.91846326]\n",
      " [-1.28833379 -0.32565134]\n",
      " [-0.01340312 -0.47385432]\n",
      " [ 0.47695483  0.32644176]\n",
      " [ 0.86924119 -1.21486922]\n",
      " [ 0.47695483  0.11895759]\n",
      " [-0.01340312 -0.20708896]\n",
      " [ 2.24224345 -0.79990088]\n",
      " [-0.11147471 -0.50349492]\n",
      " [ 2.04610027  0.7710507 ]\n",
      " [ 0.57502642  1.77883095]\n",
      " [-0.99411902  0.59320712]\n",
      " [-1.38640538  0.38572295]\n",
      " [ 0.08466847  1.27494082]\n",
      " [-0.2095463  -0.56277611]\n",
      " [-0.11147471  0.88961308]\n",
      " [-0.01340312  2.22343989]\n",
      " [-1.09219061 -1.00738505]\n",
      " [ 0.47695483  0.0300358 ]\n",
      " [ 0.57502642  1.89739333]\n",
      " [ 0.08466847 -0.56277611]\n",
      " [ 0.86924119  0.80069129]\n",
      " [-0.2095463  -0.74061968]\n",
      " [ 0.08466847  1.30458142]\n",
      " [ 0.18274006  0.0596764 ]\n",
      " [-1.09219061 -0.50349492]\n",
      " [ 1.65381391  1.15637844]\n",
      " [-0.40568948 -0.53313551]\n",
      " [-1.09219061 -1.57055636]\n",
      " [-0.69990425  0.53392593]\n",
      " [-0.2095463  -0.26637015]\n",
      " [-0.79797584 -1.21486922]\n",
      " [ 0.7711696  -1.39271279]\n",
      " [ 0.86924119  1.4231438 ]\n",
      " [-0.50376107 -1.51127517]\n",
      " [-1.48447697  0.35608236]\n",
      " [-1.1902622   0.53392593]\n",
      " [ 1.06538437 -1.06666624]\n",
      " [-0.2095463  -0.32565134]\n",
      " [ 0.96731278 -1.36307219]\n",
      " [-1.09219061 -1.09630683]\n",
      " [-0.50376107  1.95667452]\n",
      " [ 2.24224345 -1.03702564]\n",
      " [ 1.45767073 -1.42235339]\n",
      " [ 0.08466847 -0.41457313]\n",
      " [-1.1902622   0.62284772]\n",
      " [ 2.04610027 -0.91846326]\n",
      " [ 1.16345596  0.56356653]\n",
      " [-0.01340312  0.26716057]\n",
      " [-0.2095463   0.23751997]\n",
      " [-0.30761789 -0.77026028]]\n"
     ]
    }
   ],
   "source": [
    "from sklearn.preprocessing import StandardScaler\n",
    "scaler = StandardScaler()\n",
    "\n",
    "X_train = scaler.fit_transform(X_train)\n",
    "X_test = scaler.transform(X_test)\n",
    "print(X_test)"
   ]
  },
  {
   "cell_type": "markdown",
   "metadata": {
    "colab_type": "text",
    "id": "bb6jCOCQiAmP"
   },
   "source": [
    "## Training the Logistic Regression model on the Training set"
   ]
  },
  {
   "cell_type": "code",
   "execution_count": 17,
   "metadata": {},
   "outputs": [
    {
     "data": {
      "text/html": [
       "<style>#sk-container-id-3 {color: black;background-color: white;}#sk-container-id-3 pre{padding: 0;}#sk-container-id-3 div.sk-toggleable {background-color: white;}#sk-container-id-3 label.sk-toggleable__label {cursor: pointer;display: block;width: 100%;margin-bottom: 0;padding: 0.3em;box-sizing: border-box;text-align: center;}#sk-container-id-3 label.sk-toggleable__label-arrow:before {content: \"▸\";float: left;margin-right: 0.25em;color: #696969;}#sk-container-id-3 label.sk-toggleable__label-arrow:hover:before {color: black;}#sk-container-id-3 div.sk-estimator:hover label.sk-toggleable__label-arrow:before {color: black;}#sk-container-id-3 div.sk-toggleable__content {max-height: 0;max-width: 0;overflow: hidden;text-align: left;background-color: #f0f8ff;}#sk-container-id-3 div.sk-toggleable__content pre {margin: 0.2em;color: black;border-radius: 0.25em;background-color: #f0f8ff;}#sk-container-id-3 input.sk-toggleable__control:checked~div.sk-toggleable__content {max-height: 200px;max-width: 100%;overflow: auto;}#sk-container-id-3 input.sk-toggleable__control:checked~label.sk-toggleable__label-arrow:before {content: \"▾\";}#sk-container-id-3 div.sk-estimator input.sk-toggleable__control:checked~label.sk-toggleable__label {background-color: #d4ebff;}#sk-container-id-3 div.sk-label input.sk-toggleable__control:checked~label.sk-toggleable__label {background-color: #d4ebff;}#sk-container-id-3 input.sk-hidden--visually {border: 0;clip: rect(1px 1px 1px 1px);clip: rect(1px, 1px, 1px, 1px);height: 1px;margin: -1px;overflow: hidden;padding: 0;position: absolute;width: 1px;}#sk-container-id-3 div.sk-estimator {font-family: monospace;background-color: #f0f8ff;border: 1px dotted black;border-radius: 0.25em;box-sizing: border-box;margin-bottom: 0.5em;}#sk-container-id-3 div.sk-estimator:hover {background-color: #d4ebff;}#sk-container-id-3 div.sk-parallel-item::after {content: \"\";width: 100%;border-bottom: 1px solid gray;flex-grow: 1;}#sk-container-id-3 div.sk-label:hover label.sk-toggleable__label {background-color: #d4ebff;}#sk-container-id-3 div.sk-serial::before {content: \"\";position: absolute;border-left: 1px solid gray;box-sizing: border-box;top: 0;bottom: 0;left: 50%;z-index: 0;}#sk-container-id-3 div.sk-serial {display: flex;flex-direction: column;align-items: center;background-color: white;padding-right: 0.2em;padding-left: 0.2em;position: relative;}#sk-container-id-3 div.sk-item {position: relative;z-index: 1;}#sk-container-id-3 div.sk-parallel {display: flex;align-items: stretch;justify-content: center;background-color: white;position: relative;}#sk-container-id-3 div.sk-item::before, #sk-container-id-3 div.sk-parallel-item::before {content: \"\";position: absolute;border-left: 1px solid gray;box-sizing: border-box;top: 0;bottom: 0;left: 50%;z-index: -1;}#sk-container-id-3 div.sk-parallel-item {display: flex;flex-direction: column;z-index: 1;position: relative;background-color: white;}#sk-container-id-3 div.sk-parallel-item:first-child::after {align-self: flex-end;width: 50%;}#sk-container-id-3 div.sk-parallel-item:last-child::after {align-self: flex-start;width: 50%;}#sk-container-id-3 div.sk-parallel-item:only-child::after {width: 0;}#sk-container-id-3 div.sk-dashed-wrapped {border: 1px dashed gray;margin: 0 0.4em 0.5em 0.4em;box-sizing: border-box;padding-bottom: 0.4em;background-color: white;}#sk-container-id-3 div.sk-label label {font-family: monospace;font-weight: bold;display: inline-block;line-height: 1.2em;}#sk-container-id-3 div.sk-label-container {text-align: center;}#sk-container-id-3 div.sk-container {/* jupyter's `normalize.less` sets `[hidden] { display: none; }` but bootstrap.min.css set `[hidden] { display: none !important; }` so we also need the `!important` here to be able to override the default hidden behavior on the sphinx rendered scikit-learn.org. See: https://github.com/scikit-learn/scikit-learn/issues/21755 */display: inline-block !important;position: relative;}#sk-container-id-3 div.sk-text-repr-fallback {display: none;}</style><div id=\"sk-container-id-3\" class=\"sk-top-container\"><div class=\"sk-text-repr-fallback\"><pre>LogisticRegression(random_state=0)</pre><b>In a Jupyter environment, please rerun this cell to show the HTML representation or trust the notebook. <br />On GitHub, the HTML representation is unable to render, please try loading this page with nbviewer.org.</b></div><div class=\"sk-container\" hidden><div class=\"sk-item\"><div class=\"sk-estimator sk-toggleable\"><input class=\"sk-toggleable__control sk-hidden--visually\" id=\"sk-estimator-id-3\" type=\"checkbox\" checked><label for=\"sk-estimator-id-3\" class=\"sk-toggleable__label sk-toggleable__label-arrow\">LogisticRegression</label><div class=\"sk-toggleable__content\"><pre>LogisticRegression(random_state=0)</pre></div></div></div></div></div>"
      ],
      "text/plain": [
       "LogisticRegression(random_state=0)"
      ]
     },
     "execution_count": 17,
     "metadata": {},
     "output_type": "execute_result"
    }
   ],
   "source": [
    "from sklearn.linear_model import LogisticRegression\n",
    "classifier = LogisticRegression(random_state=0)\n",
    "classifier.fit(X_train,y_train)"
   ]
  },
  {
   "cell_type": "markdown",
   "metadata": {
    "colab_type": "text",
    "id": "yyxW5b395mR2"
   },
   "source": [
    "## Predicting a new result"
   ]
  },
  {
   "cell_type": "markdown",
   "metadata": {
    "colab_type": "text",
    "id": "vKYVQH-l5NpE"
   },
   "source": [
    "## Predicting the Test set results"
   ]
  },
  {
   "cell_type": "markdown",
   "metadata": {
    "colab_type": "text",
    "id": "h4Hwj34ziWQW"
   },
   "source": [
    "## Making the Confusion Matrix"
   ]
  },
  {
   "cell_type": "markdown",
   "metadata": {
    "colab_type": "text",
    "id": "6OMC_P0diaoD"
   },
   "source": [
    "## Visualising the Training set results"
   ]
  },
  {
   "cell_type": "markdown",
   "metadata": {
    "colab_type": "text",
    "id": "SZ-j28aPihZx"
   },
   "source": [
    "## Visualising the Test set results"
   ]
  }
 ],
 "metadata": {
  "colab": {
   "authorship_tag": "ABX9TyOsvB/iqEjYj3VN6C/JbvkE",
   "collapsed_sections": [],
   "machine_shape": "hm",
   "name": "logistic_regression.ipynb",
   "provenance": [],
   "toc_visible": true
  },
  "kernelspec": {
   "display_name": "Python 3 (ipykernel)",
   "language": "python",
   "name": "python3"
  },
  "language_info": {
   "codemirror_mode": {
    "name": "ipython",
    "version": 3
   },
   "file_extension": ".py",
   "mimetype": "text/x-python",
   "name": "python",
   "nbconvert_exporter": "python",
   "pygments_lexer": "ipython3",
   "version": "3.11.3"
  }
 },
 "nbformat": 4,
 "nbformat_minor": 1
}
