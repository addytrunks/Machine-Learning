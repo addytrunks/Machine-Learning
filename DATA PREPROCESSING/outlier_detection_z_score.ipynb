{
 "cells": [
  {
   "cell_type": "code",
   "execution_count": 1,
   "id": "5f67a13e-0384-4354-9ccf-7856a28bae93",
   "metadata": {},
   "outputs": [],
   "source": [
    "def calc_z_score(column):\n",
    "    z_scores = (column - column.mean()) / column.std()\n",
    "    return z_scores"
   ]
  },
  {
   "cell_type": "code",
   "execution_count": null,
   "id": "2222e3b9-fe1a-4df9-8543-e9553b027057",
   "metadata": {},
   "outputs": [],
   "source": [
    "numerical_columns = ['Age','RestingBP','Cholesterol','FastingBS','MaxHR','Oldpeak']\n",
    "df_z_score = pd.DataFrame()\n",
    "for column in numerical_columns:\n",
    "  df_z_score['z_score_{}'.format(column)] = calc_z_score(df[column])\n",
    "df.shape,df_z_score.shape"
   ]
  },
  {
   "cell_type": "code",
   "execution_count": null,
   "id": "f53f30c8-ec99-4f71-b422-060aa81e69c0",
   "metadata": {},
   "outputs": [],
   "source": [
    "for column in numerical_columns:\n",
    "  df = df[(df_z_score['z_score_{}'.format(column)] < 3) & (df_z_score['z_score_{}'.format(column)] > -3)]"
   ]
  }
 ],
 "metadata": {
  "kernelspec": {
   "display_name": "Python 3 (ipykernel)",
   "language": "python",
   "name": "python3"
  },
  "language_info": {
   "codemirror_mode": {
    "name": "ipython",
    "version": 3
   },
   "file_extension": ".py",
   "mimetype": "text/x-python",
   "name": "python",
   "nbconvert_exporter": "python",
   "pygments_lexer": "ipython3",
   "version": "3.11.3"
  }
 },
 "nbformat": 4,
 "nbformat_minor": 5
}
