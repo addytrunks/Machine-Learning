{
 "cells": [
  {
   "cell_type": "code",
   "execution_count": 49,
   "metadata": {},
   "outputs": [
    {
     "name": "stdout",
     "output_type": "stream",
     "text": [
      "[0 0 0 2 0 1 0 0 0 0 0 1 2 0 0 0 0 0 0]\n",
      "     Survived\n",
      "2           1\n",
      "4           1\n",
      "7           1\n",
      "11          3\n",
      "12          1\n",
      "22          2\n",
      "24          1\n",
      "28          1\n",
      "53          1\n",
      "55          1\n",
      "63          1\n",
      "67          2\n",
      "76          3\n",
      "89          1\n",
      "93          1\n",
      "97          1\n",
      "98          1\n",
      "103         1\n",
      "111         1\n"
     ]
    }
   ],
   "source": [
    "import numpy as np\n",
    "import pandas as pd\n",
    "from sklearn.compose import ColumnTransformer\n",
    "from sklearn.preprocessing import OneHotEncoder\n",
    "from sklearn.preprocessing import LabelEncoder\n",
    "\n",
    "\n",
    "df = pd.read_csv(\"Data2.csv\")\n",
    "\n",
    "categorical_features = ['Sex', 'Embarked', 'Pclass']\n",
    "\n",
    "# ct = ColumnTransformer(\n",
    "#     transformers=[\n",
    "#         ('encoder', OneHotEncoder(), categorical_features)\n",
    "#     ], remainder='passthrough')\n",
    "\n",
    "# X = ct.fit_transform(df)\n",
    "# X = np.array(X)\n",
    "\n",
    "le = LabelEncoder()\n",
    "y  = le.fit_transform(df['Survived'])\n",
    "y_trans = df[['Survived']]\n",
    "\n",
    "print(y)\n",
    "print(y_trans)"
   ]
  }
 ],
 "metadata": {
  "colab": {
   "provenance": [
    {
     "file_id": "1-oRijAoUwpp2Qlz-Kl3k6hNlodWQyf87",
     "timestamp": 1691154076426
    }
   ],
   "toc_visible": true
  },
  "kernelspec": {
   "display_name": "Python 3 (ipykernel)",
   "language": "python",
   "name": "python3"
  },
  "language_info": {
   "codemirror_mode": {
    "name": "ipython",
    "version": 3
   },
   "file_extension": ".py",
   "mimetype": "text/x-python",
   "name": "python",
   "nbconvert_exporter": "python",
   "pygments_lexer": "ipython3",
   "version": "3.11.3"
  }
 },
 "nbformat": 4,
 "nbformat_minor": 1
}
