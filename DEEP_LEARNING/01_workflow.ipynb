{
 "cells": [
  {
   "cell_type": "code",
   "execution_count": 1,
   "id": "7135b71d-edb0-41c6-b880-c66f37c25de0",
   "metadata": {},
   "outputs": [],
   "source": [
    "import torch "
   ]
  },
  {
   "cell_type": "markdown",
   "id": "c4960d6d-0669-49c9-b52f-210774d77959",
   "metadata": {},
   "source": [
    "What is going to be covered:\n",
    " 1. Data Pre-processing\n",
    " 2. Build Model\n",
    " 3. Fit model to data(training)\n",
    " 4. Making prediction and evaluating a model\n",
    " 5. Saving & loading a model"
   ]
  }
 ],
 "metadata": {
  "kernelspec": {
   "display_name": "Python 3 (ipykernel)",
   "language": "python",
   "name": "python3"
  },
  "language_info": {
   "codemirror_mode": {
    "name": "ipython",
    "version": 3
   },
   "file_extension": ".py",
   "mimetype": "text/x-python",
   "name": "python",
   "nbconvert_exporter": "python",
   "pygments_lexer": "ipython3",
   "version": "3.11.3"
  }
 },
 "nbformat": 4,
 "nbformat_minor": 5
}
