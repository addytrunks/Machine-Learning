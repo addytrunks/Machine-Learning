{
 "cells": [
  {
   "cell_type": "code",
   "execution_count": 3,
   "id": "e8b4454e-fbb5-4b9b-b827-e4a4e5a41f84",
   "metadata": {},
   "outputs": [],
   "source": [
    "import torch"
   ]
  },
  {
   "cell_type": "markdown",
   "id": "cdddaef0-96e4-424e-a5ac-28f8046df814",
   "metadata": {},
   "source": [
    "## Tensors\n",
    "Building blocks of ML"
   ]
  },
  {
   "cell_type": "markdown",
   "id": "4116889e-049c-4464-ae01-597a367d35c7",
   "metadata": {
    "jp-MarkdownHeadingCollapsed": true
   },
   "source": [
    "### Creating tensors"
   ]
  },
  {
   "cell_type": "code",
   "execution_count": 4,
   "id": "ded15687-5871-404a-82a5-f04185d7629f",
   "metadata": {},
   "outputs": [
    {
     "data": {
      "text/plain": [
       "tensor(7)"
      ]
     },
     "execution_count": 4,
     "metadata": {},
     "output_type": "execute_result"
    }
   ],
   "source": [
    "# A torch.Tensor is a multi-dimensional matrix containing elements of a single data type.\n",
    "scalar = torch.tensor(7)\n",
    "scalar"
   ]
  },
  {
   "cell_type": "code",
   "execution_count": 5,
   "id": "736a0467-e796-4a62-88dd-d081e9f33aeb",
   "metadata": {},
   "outputs": [
    {
     "data": {
      "text/plain": [
       "0"
      ]
     },
     "execution_count": 5,
     "metadata": {},
     "output_type": "execute_result"
    }
   ],
   "source": [
    "# As it is a single number,it has no item\n",
    "scalar.ndim"
   ]
  },
  {
   "cell_type": "code",
   "execution_count": 6,
   "id": "ff869298-9a1b-4e00-a82e-8b0bb0b0cac9",
   "metadata": {},
   "outputs": [
    {
     "data": {
      "text/plain": [
       "7"
      ]
     },
     "execution_count": 6,
     "metadata": {},
     "output_type": "execute_result"
    }
   ],
   "source": [
    "# This only works in case of scalars.\n",
    "scalar.item()"
   ]
  },
  {
   "cell_type": "code",
   "execution_count": 22,
   "id": "55156643-3ea4-4ff5-805e-dc99508447b3",
   "metadata": {},
   "outputs": [
    {
     "name": "stdout",
     "output_type": "stream",
     "text": [
      "1\n",
      "torch.Size([2])\n",
      "torch.Size([2])\n"
     ]
    }
   ],
   "source": [
    "# Vectors\n",
    "vector = torch.tensor([1,2])\n",
    "\n",
    "print(vector.ndim)\n",
    "\n",
    "# Returns the shape => 1 x 2 matrix => vector\n",
    "print(vector.shape)\n",
    "print(vector.size())"
   ]
  },
  {
   "cell_type": "code",
   "execution_count": 27,
   "id": "9f4238e8-c15f-40d4-ad47-9213aef7986a",
   "metadata": {},
   "outputs": [
    {
     "name": "stdout",
     "output_type": "stream",
     "text": [
      "tensor([[1, 2],\n",
      "        [2, 3],\n",
      "        [3, 4]])\n",
      "2\n",
      "torch.Size([3, 2])\n",
      "torch.Size([3, 2])\n"
     ]
    }
   ],
   "source": [
    "# Matrices\n",
    "M = torch.tensor([\n",
    "    [1,2],\n",
    "    [2,3],\n",
    "    [3,4]\n",
    "])\n",
    "print(M.ndim)\n",
    "print(M.shape)\n",
    "print(M.size())"
   ]
  },
  {
   "cell_type": "code",
   "execution_count": 31,
   "id": "05b8290c-a12c-4188-8815-61ca54dafb14",
   "metadata": {},
   "outputs": [
    {
     "data": {
      "text/plain": [
       "torch.Size([2, 3, 3])"
      ]
     },
     "execution_count": 31,
     "metadata": {},
     "output_type": "execute_result"
    }
   ],
   "source": [
    "# Tensor\n",
    "T = torch.tensor([\n",
    "    [\n",
    "        [1,2,3],\n",
    "        [4,5,6],\n",
    "        [7,8,9]\n",
    "    ],\n",
    "    [\n",
    "        [0,1,2],\n",
    "        [3,4,5],\n",
    "        [6,7,8]\n",
    "    ]\n",
    "])\n",
    "\n",
    "# We've got two 3 x 3 matrices\n",
    "T.shape"
   ]
  }
 ],
 "metadata": {
  "kernelspec": {
   "display_name": "Python 3 (ipykernel)",
   "language": "python",
   "name": "python3"
  },
  "language_info": {
   "codemirror_mode": {
    "name": "ipython",
    "version": 3
   },
   "file_extension": ".py",
   "mimetype": "text/x-python",
   "name": "python",
   "nbconvert_exporter": "python",
   "pygments_lexer": "ipython3",
   "version": "3.11.3"
  }
 },
 "nbformat": 4,
 "nbformat_minor": 5
}
