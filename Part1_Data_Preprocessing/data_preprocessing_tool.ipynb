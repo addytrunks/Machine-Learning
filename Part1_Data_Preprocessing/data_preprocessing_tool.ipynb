{
 "cells": [
  {
   "cell_type": "markdown",
   "metadata": {
    "id": "37puETfgRzzg"
   },
   "source": [
    "# Data Preprocessing Tools"
   ]
  },
  {
   "cell_type": "markdown",
   "metadata": {
    "id": "1jI3Y8fXtEyz"
   },
   "source": [
    "Data Processing is the process of converting raw data to suitable format for training and building ML models.\n",
    "\n",
    "The processes involved are:\n",
    "  1. Data Cleaning (Handle Missing Values)\n",
    "  2. Data Transformation (Feauture Scaling - Normalization,Standardization)\n",
    "  3. Data Splitting (Splitting data into training and test models)"
   ]
  },
  {
   "cell_type": "markdown",
   "metadata": {
    "id": "EoRP98MpR-qj"
   },
   "source": [
    "## Importing the libraries"
   ]
  },
  {
   "cell_type": "code",
   "execution_count": 16,
   "metadata": {
    "id": "V42dnYo1pKT5"
   },
   "outputs": [],
   "source": [
    "import numpy as np\n",
    "import matplotlib.pyplot as plt\n",
    "import pandas as pd"
   ]
  },
  {
   "cell_type": "markdown",
   "metadata": {
    "id": "RopL7tUZSQkT"
   },
   "source": [
    "## Importing the dataset"
   ]
  },
  {
   "cell_type": "code",
   "execution_count": 17,
   "metadata": {
    "id": "pMoLWM9zpqPl"
   },
   "outputs": [],
   "source": [
    "# While reading the CSV, check the delimiter used, if its anything other than a comma, you have to specify a delimiter parameter.\n",
    "dataset = pd.read_csv('Data.csv')\n",
    "# 1. Separating the feautures(X) and dependent variables(Y)\n",
    "\n",
    "# 2. Here X contains the data frame for the first 3 columns of the dataset\n",
    "X = dataset.iloc[:,:-1].values\n",
    "\n",
    "# 3. Here Y contains the data frame for the last column of the dataset\n",
    "Y = dataset.iloc[:,-1].values"
   ]
  },
  {
   "cell_type": "code",
   "execution_count": null,
   "metadata": {
    "id": "wbZE386gs4YN"
   },
   "outputs": [],
   "source": [
    "# Sum of the total number of entries that are null in each column\n",
    "print(dataset.isnull().sum())"
   ]
  },
  {
   "cell_type": "code",
   "execution_count": null,
   "metadata": {},
   "outputs": [],
   "source": [
    "print(X)\n",
    "print(Y)"
   ]
  },
  {
   "cell_type": "markdown",
   "metadata": {
    "id": "nhfKXNxlSabC"
   },
   "source": [
    "## Taking care of missing data"
   ]
  },
  {
   "cell_type": "code",
   "execution_count": 18,
   "metadata": {
    "id": "9uJ8PGGSvyQ8"
   },
   "outputs": [],
   "source": [
    "# Two ways to handle missing data\n",
    "# 1. Delete the row that has missing data\n",
    "# 2. Replace the missing cell with the average/median/frequent of the values of a particular column\n",
    "\n",
    "from sklearn.impute import SimpleImputer\n",
    "imputer = SimpleImputer(missing_values=np.nan,strategy=\"mean\")\n",
    "\n",
    "# will look for all the missing cells(make sure to select ONLY numerical columns)\n",
    "# you can also pass the dataset to it is as an arguement\n",
    "imputer.fit(X[:,1:3])\n",
    "\n",
    "# returns the updated data frame\n",
    "# you can also pass the dataset as it is as an arguement\n",
    "X[:,1:3] = imputer.transform(X[:,1:3])"
   ]
  },
  {
   "cell_type": "code",
   "execution_count": null,
   "metadata": {
    "id": "kM_FPrpmzBEN"
   },
   "outputs": [],
   "source": [
    "print(X)"
   ]
  },
  {
   "cell_type": "markdown",
   "metadata": {
    "id": "CriG6VzVSjcK"
   },
   "source": [
    "## Encoding categorical data"
   ]
  },
  {
   "cell_type": "markdown",
   "metadata": {
    "id": "O5-ReOZz4TnN"
   },
   "source": [
    "If there is a datatype other than numbers in the dataset, the ML model will have a hard time analysing it.So what we can do is we can group similar values in a column(that are not numbers) into a category(Encoding Categorical)."
   ]
  },
  {
   "cell_type": "markdown",
   "metadata": {
    "id": "AhSpdQWeSsFh"
   },
   "source": [
    "### Encoding the Independent Variable"
   ]
  },
  {
   "cell_type": "code",
   "execution_count": 19,
   "metadata": {
    "id": "Q9OjbO4W4p__"
   },
   "outputs": [],
   "source": [
    "# One Hot Encoding is used when there is no kind of relationship between the values in a column\n",
    "# Eg. Lets say we have a column Fruits, with values apple,bannana, & kiwi, there is no relationship between between these values\n",
    "# NOTE: Doing so, the dimensions of the table WILL increase\n",
    "\n",
    "from sklearn.compose import ColumnTransformer\n",
    "from sklearn.preprocessing import OneHotEncoder\n",
    "\n",
    "# specify what kind of transformations we will do, and on which indice(s) we will do so\n",
    "\n",
    "# ColumnTransformer's transformers takes 3 params: operation name,type of operation,column index(s) you want to transform\n",
    "ct = ColumnTransformer(transformers=[('encoder',OneHotEncoder(),[0])],\n",
    "                       # passthrough = keep the columns that are not being transformed as it is\n",
    "                       remainder='passthrough')\n",
    "\n",
    "# X(feautures) is expected to be a numpy array\n",
    "X = np.array(ct.fit_transform(X))\n"
   ]
  },
  {
   "cell_type": "markdown",
   "metadata": {},
   "source": [
    "print(X)"
   ]
  },
  {
   "cell_type": "code",
   "execution_count": null,
   "metadata": {},
   "outputs": [],
   "source": [
    "# If the encoding is done directly from the dataset(i.e without separating it into dependent variables and feautures)\n",
    "\n",
    "# ct = ColumnTransformer(transformers=[('encoder',OneHotEncoder(),[pass the column name(s) here])],remainder='passthrough')\n",
    "# le = LabelEncoder()\n",
    "# le.fit_tansform(dataset[columnName])"
   ]
  },
  {
   "cell_type": "markdown",
   "metadata": {
    "id": "DXh8oVSITIc6"
   },
   "source": [
    "### Encoding the Dependent Variable"
   ]
  },
  {
   "cell_type": "code",
   "execution_count": 20,
   "metadata": {
    "colab": {
     "base_uri": "https://localhost:8080/"
    },
    "executionInfo": {
     "elapsed": 355,
     "status": "ok",
     "timestamp": 1691159296637,
     "user": {
      "displayName": "Adhithya Srivatsan",
      "userId": "05457281461123021603"
     },
     "user_tz": -330
    },
    "id": "xoAQmM2O8p1P",
    "outputId": "cfab4408-818d-4a5e-eacb-e08a85fc5cd4"
   },
   "outputs": [],
   "source": [
    "from sklearn.preprocessing import LabelEncoder\n",
    "le = LabelEncoder()\n",
    "\n",
    "Y = le.fit_transform(Y)"
   ]
  },
  {
   "cell_type": "markdown",
   "metadata": {
    "id": "qb_vcgm3qZKW"
   },
   "source": [
    "## Splitting the dataset into the Training set and Test set"
   ]
  },
  {
   "cell_type": "code",
   "execution_count": 24,
   "metadata": {},
   "outputs": [],
   "source": [
    "from sklearn.model_selection import train_test_split\n",
    "X_train,X_test,Y_train,Y_test=train_test_split(X,Y,test_size=0.2,random_state=1)\n",
    "\n",
    "print(X_train)\n",
    "print(X_test)\n",
    "print(Y_train)\n",
    "print(Y_test)"
   ]
  },
  {
   "cell_type": "markdown",
   "metadata": {
    "id": "qb_vcgm3qZKW"
   },
   "source": [
    "## Feauture Scaling\n",
    "This is done in order to avoid feautures/columns being dominated by other feautures/columns in such a way that the dominated feautures will not even be considered in ML model\n",
    "\n",
    "Standardisation = X - mean(X)/ Standard Deviation(X) [-3,+3]\n"
   ]
  },
  {
   "cell_type": "code",
   "execution_count": 26,
   "metadata": {},
   "outputs": [],
   "source": [
    "from sklearn.preprocessing import StandardScaler\n",
    "scaler = StandardScaler()\n",
    "\n",
    "# Feauture Scaling must NOT be applied to all feautures/columns i.e it is not necessary to apply it to features that were encoded because it already lies between 0 and 1.\n",
    "\n",
    "# fit - calculates the mean and standard deviation of the values in the column\n",
    "# transform - obvious innit\n",
    "X_train[:,3:] = scaler.fit_transform(X_train[:,3:])\n",
    "\n",
    "#transform method on the test data is to ensure that the test data is processed in the same way as the training data\n",
    "X_test[:,3:] = scaler.transform(X_test[:,3:])\n",
    "\n",
    "print(X_train)\n",
    "print(X_test)"
   ]
  }
 ],
 "metadata": {
  "colab": {
   "provenance": [
    {
     "file_id": "1-oRijAoUwpp2Qlz-Kl3k6hNlodWQyf87",
     "timestamp": 1691154076426
    }
   ],
   "toc_visible": true
  },
  "kernelspec": {
   "display_name": "Python 3 (ipykernel)",
   "language": "python",
   "name": "python3"
  },
  "language_info": {
   "codemirror_mode": {
    "name": "ipython",
    "version": 3
   },
   "file_extension": ".py",
   "mimetype": "text/x-python",
   "name": "python",
   "nbconvert_exporter": "python",
   "pygments_lexer": "ipython3",
   "version": "3.10.0"
  }
 },
 "nbformat": 4,
 "nbformat_minor": 1
}
