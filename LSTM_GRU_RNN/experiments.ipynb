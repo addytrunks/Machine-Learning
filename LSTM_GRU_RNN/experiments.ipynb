{
 "cells": [
  {
   "cell_type": "code",
   "execution_count": 9,
   "metadata": {},
   "outputs": [
    {
     "name": "stderr",
     "output_type": "stream",
     "text": [
      "[nltk_data] Downloading package gutenberg to\n",
      "[nltk_data]     C:\\Users\\adhri\\AppData\\Roaming\\nltk_data...\n",
      "[nltk_data]   Package gutenberg is already up-to-date!\n"
     ]
    }
   ],
   "source": [
    "import nltk\n",
    "nltk.download('gutenberg')\n",
    "\n",
    "from nltk.corpus import gutenberg\n",
    "import pandas as pd\n",
    "import tensorflow as tf\n",
    "\n",
    "\n",
    "data = gutenberg.raw('shakespeare-hamlet.txt')\n",
    "\n",
    "with open('hamlet.txt', 'w') as f:\n",
    "    f.write(data)"
   ]
  },
  {
   "cell_type": "markdown",
   "metadata": {},
   "source": [
    "## Data Preprocessing"
   ]
  },
  {
   "cell_type": "code",
   "execution_count": 1,
   "metadata": {},
   "outputs": [
    {
     "name": "stdout",
     "output_type": "stream",
     "text": [
      "WARNING:tensorflow:From c:\\Users\\adhri\\anaconda3\\Lib\\site-packages\\keras\\src\\losses.py:2976: The name tf.losses.sparse_softmax_cross_entropy is deprecated. Please use tf.compat.v1.losses.sparse_softmax_cross_entropy instead.\n",
      "\n"
     ]
    }
   ],
   "source": [
    "import numpy as np\n",
    "from tensorflow.keras.preprocessing.text import Tokenizer\n",
    "from tensorflow.keras.preprocessing.sequence import pad_sequences  \n",
    "from sklearn.model_selection import train_test_split\n",
    "\n",
    "with open('hamlet.txt', 'r') as f:\n",
    "    text = f.read().lower()\n",
    "\n",
    "tokenizer = Tokenizer()\n",
    "tokenizer.fit_on_texts([text])"
   ]
  },
  {
   "cell_type": "code",
   "execution_count": 2,
   "metadata": {},
   "outputs": [
    {
     "data": {
      "text/plain": [
       "4818"
      ]
     },
     "execution_count": 2,
     "metadata": {},
     "output_type": "execute_result"
    }
   ],
   "source": [
    "total_words = len(tokenizer.word_index) + 1\n",
    "total_words"
   ]
  },
  {
   "cell_type": "code",
   "execution_count": 3,
   "metadata": {},
   "outputs": [],
   "source": [
    "input_sequences = []\n",
    "for line in text.split('\\n'):\n",
    "    token_list = tokenizer.texts_to_sequences([line])[0]\n",
    "    for i in range(1,len(token_list)):\n",
    "        n_gram_sequence = token_list[:i+1]\n",
    "        input_sequences.append(n_gram_sequence)"
   ]
  },
  {
   "cell_type": "code",
   "execution_count": 4,
   "metadata": {},
   "outputs": [
    {
     "data": {
      "text/plain": [
       "25732"
      ]
     },
     "execution_count": 4,
     "metadata": {},
     "output_type": "execute_result"
    }
   ],
   "source": [
    "len(input_sequences)"
   ]
  },
  {
   "cell_type": "code",
   "execution_count": 5,
   "metadata": {},
   "outputs": [],
   "source": [
    "max_sequence_length = max([len(x) for x in input_sequences])"
   ]
  },
  {
   "cell_type": "code",
   "execution_count": 6,
   "metadata": {},
   "outputs": [],
   "source": [
    "input_sequences = np.array(pad_sequences(input_sequences, maxlen=max_sequence_length, padding='pre'))"
   ]
  },
  {
   "cell_type": "code",
   "execution_count": 7,
   "metadata": {},
   "outputs": [
    {
     "data": {
      "text/plain": [
       "array([[   0,    0,    0, ...,    0,    1,  687],\n",
       "       [   0,    0,    0, ...,    1,  687,    4],\n",
       "       [   0,    0,    0, ...,  687,    4,   45],\n",
       "       ...,\n",
       "       [   0,    0,    0, ...,    4,   45, 1047],\n",
       "       [   0,    0,    0, ...,   45, 1047,    4],\n",
       "       [   0,    0,    0, ..., 1047,    4,  193]])"
      ]
     },
     "execution_count": 7,
     "metadata": {},
     "output_type": "execute_result"
    }
   ],
   "source": [
    "input_sequences"
   ]
  },
  {
   "cell_type": "code",
   "execution_count": 10,
   "metadata": {},
   "outputs": [],
   "source": [
    "X,y = input_sequences[:,:-1],input_sequences[:,-1]\n",
    "y = tf.keras.utils.to_categorical(y, num_classes=total_words)"
   ]
  },
  {
   "cell_type": "code",
   "execution_count": 11,
   "metadata": {},
   "outputs": [],
   "source": [
    "X_train, X_test, y_train, y_test = train_test_split(X, y, test_size=0.2, random_state=42)"
   ]
  },
  {
   "cell_type": "markdown",
   "metadata": {},
   "source": [
    "## Training the model"
   ]
  },
  {
   "cell_type": "code",
   "execution_count": 13,
   "metadata": {},
   "outputs": [
    {
     "name": "stdout",
     "output_type": "stream",
     "text": [
      "Model: \"sequential_1\"\n",
      "_________________________________________________________________\n",
      " Layer (type)                Output Shape              Param #   \n",
      "=================================================================\n",
      " embedding_1 (Embedding)     (None, 13, 100)           481800    \n",
      "                                                                 \n",
      " lstm_2 (LSTM)               (None, 13, 150)           150600    \n",
      "                                                                 \n",
      " dropout_1 (Dropout)         (None, 13, 150)           0         \n",
      "                                                                 \n",
      " lstm_3 (LSTM)               (None, 100)               100400    \n",
      "                                                                 \n",
      " dense_1 (Dense)             (None, 4818)              486618    \n",
      "                                                                 \n",
      "=================================================================\n",
      "Total params: 1219418 (4.65 MB)\n",
      "Trainable params: 1219418 (4.65 MB)\n",
      "Non-trainable params: 0 (0.00 Byte)\n",
      "_________________________________________________________________\n"
     ]
    }
   ],
   "source": [
    "from tensorflow.keras.models import Sequential\n",
    "from tensorflow.keras.layers import Embedding, LSTM, Dense, Dropout\n",
    "\n",
    "model = Sequential()\n",
    "model.add(Embedding(total_words, 100, input_length=max_sequence_length-1))\n",
    "model.add(LSTM(150, return_sequences=True))\n",
    "model.add(Dropout(0.2))\n",
    "model.add(LSTM(100))\n",
    "model.add(Dense(total_words, activation='softmax'))\n",
    "\n",
    "model.compile(loss='categorical_crossentropy', optimizer='adam', metrics=['accuracy'])\n",
    "model.summary()\n"
   ]
  },
  {
   "cell_type": "code",
   "execution_count": null,
   "metadata": {},
   "outputs": [],
   "source": [
    "from tensorflow.keras.models import Sequential\n",
    "from tensorflow.keras.layers import Embedding, GRU, Dense, Dropout\n",
    "\n",
    "model = Sequential()\n",
    "model.add(Embedding(total_words, 100, input_length=max_sequence_length-1))\n",
    "model.add(GRU(150, return_sequences=True))\n",
    "model.add(Dropout(0.2))\n",
    "model.add(GRU(100))\n",
    "model.add(Dense(total_words, activation='softmax'))\n",
    "\n",
    "model.compile(loss='categorical_crossentropy', optimizer='adam', metrics=['accuracy'])\n",
    "model.summary()\n"
   ]
  },
  {
   "cell_type": "code",
   "execution_count": 16,
   "metadata": {},
   "outputs": [],
   "source": [
    "early_stopping = tf.keras.callbacks.EarlyStopping(monitor='val_loss', patience=3, restore_best_weights=True)\n"
   ]
  },
  {
   "cell_type": "code",
   "execution_count": 17,
   "metadata": {},
   "outputs": [
    {
     "name": "stdout",
     "output_type": "stream",
     "text": [
      "Epoch 1/50\n",
      "644/644 [==============================] - ETA: 0s - loss: 6.4028 - accuracy: 0.0441WARNING:tensorflow:Early stopping conditioned on metric `val_loss` which is not available. Available metrics are: loss,accuracy\n",
      "644/644 [==============================] - 23s 35ms/step - loss: 6.4028 - accuracy: 0.0441\n",
      "Epoch 2/50\n",
      "642/644 [============================>.] - ETA: 0s - loss: 6.2449 - accuracy: 0.0499WARNING:tensorflow:Early stopping conditioned on metric `val_loss` which is not available. Available metrics are: loss,accuracy\n",
      "644/644 [==============================] - 21s 32ms/step - loss: 6.2440 - accuracy: 0.0499\n",
      "Epoch 3/50\n",
      "643/644 [============================>.] - ETA: 0s - loss: 6.0954 - accuracy: 0.0528WARNING:tensorflow:Early stopping conditioned on metric `val_loss` which is not available. Available metrics are: loss,accuracy\n",
      "644/644 [==============================] - 19s 29ms/step - loss: 6.0953 - accuracy: 0.0528\n",
      "Epoch 4/50\n",
      "642/644 [============================>.] - ETA: 0s - loss: 5.9474 - accuracy: 0.0591WARNING:tensorflow:Early stopping conditioned on metric `val_loss` which is not available. Available metrics are: loss,accuracy\n",
      "644/644 [==============================] - 19s 30ms/step - loss: 5.9476 - accuracy: 0.0591\n",
      "Epoch 5/50\n",
      "643/644 [============================>.] - ETA: 0s - loss: 5.8048 - accuracy: 0.0693WARNING:tensorflow:Early stopping conditioned on metric `val_loss` which is not available. Available metrics are: loss,accuracy\n",
      "644/644 [==============================] - 19s 29ms/step - loss: 5.8051 - accuracy: 0.0693\n",
      "Epoch 6/50\n",
      "642/644 [============================>.] - ETA: 0s - loss: 5.6645 - accuracy: 0.0768WARNING:tensorflow:Early stopping conditioned on metric `val_loss` which is not available. Available metrics are: loss,accuracy\n",
      "644/644 [==============================] - 19s 30ms/step - loss: 5.6655 - accuracy: 0.0768\n",
      "Epoch 7/50\n",
      "643/644 [============================>.] - ETA: 0s - loss: 5.5310 - accuracy: 0.0846WARNING:tensorflow:Early stopping conditioned on metric `val_loss` which is not available. Available metrics are: loss,accuracy\n",
      "644/644 [==============================] - 16s 25ms/step - loss: 5.5312 - accuracy: 0.0846\n",
      "Epoch 8/50\n",
      "643/644 [============================>.] - ETA: 0s - loss: 5.4116 - accuracy: 0.0913WARNING:tensorflow:Early stopping conditioned on metric `val_loss` which is not available. Available metrics are: loss,accuracy\n",
      "644/644 [==============================] - 22s 35ms/step - loss: 5.4110 - accuracy: 0.0913\n",
      "Epoch 9/50\n",
      "643/644 [============================>.] - ETA: 0s - loss: 5.2910 - accuracy: 0.0987WARNING:tensorflow:Early stopping conditioned on metric `val_loss` which is not available. Available metrics are: loss,accuracy\n",
      "644/644 [==============================] - 22s 35ms/step - loss: 5.2904 - accuracy: 0.0988\n",
      "Epoch 10/50\n",
      "643/644 [============================>.] - ETA: 0s - loss: 5.1764 - accuracy: 0.1023WARNING:tensorflow:Early stopping conditioned on metric `val_loss` which is not available. Available metrics are: loss,accuracy\n",
      "644/644 [==============================] - 21s 33ms/step - loss: 5.1764 - accuracy: 0.1023\n",
      "Epoch 11/50\n",
      "644/644 [==============================] - ETA: 0s - loss: 5.0630 - accuracy: 0.1091WARNING:tensorflow:Early stopping conditioned on metric `val_loss` which is not available. Available metrics are: loss,accuracy\n",
      "644/644 [==============================] - 25s 40ms/step - loss: 5.0630 - accuracy: 0.1091\n",
      "Epoch 12/50\n",
      "643/644 [============================>.] - ETA: 0s - loss: 4.9560 - accuracy: 0.1128WARNING:tensorflow:Early stopping conditioned on metric `val_loss` which is not available. Available metrics are: loss,accuracy\n",
      "644/644 [==============================] - 25s 39ms/step - loss: 4.9561 - accuracy: 0.1128\n",
      "Epoch 13/50\n",
      "643/644 [============================>.] - ETA: 0s - loss: 4.8418 - accuracy: 0.1189WARNING:tensorflow:Early stopping conditioned on metric `val_loss` which is not available. Available metrics are: loss,accuracy\n",
      "644/644 [==============================] - 23s 36ms/step - loss: 4.8421 - accuracy: 0.1188\n",
      "Epoch 14/50\n",
      "643/644 [============================>.] - ETA: 0s - loss: 4.7352 - accuracy: 0.1238WARNING:tensorflow:Early stopping conditioned on metric `val_loss` which is not available. Available metrics are: loss,accuracy\n",
      "644/644 [==============================] - 24s 37ms/step - loss: 4.7350 - accuracy: 0.1238\n",
      "Epoch 15/50\n",
      "644/644 [==============================] - ETA: 0s - loss: 4.6252 - accuracy: 0.1281WARNING:tensorflow:Early stopping conditioned on metric `val_loss` which is not available. Available metrics are: loss,accuracy\n",
      "644/644 [==============================] - 23s 36ms/step - loss: 4.6252 - accuracy: 0.1281\n",
      "Epoch 16/50\n",
      "644/644 [==============================] - ETA: 0s - loss: 4.5234 - accuracy: 0.1335WARNING:tensorflow:Early stopping conditioned on metric `val_loss` which is not available. Available metrics are: loss,accuracy\n",
      "644/644 [==============================] - 28s 44ms/step - loss: 4.5234 - accuracy: 0.1335\n",
      "Epoch 17/50\n",
      "644/644 [==============================] - ETA: 0s - loss: 4.4179 - accuracy: 0.1399WARNING:tensorflow:Early stopping conditioned on metric `val_loss` which is not available. Available metrics are: loss,accuracy\n",
      "644/644 [==============================] - 25s 39ms/step - loss: 4.4179 - accuracy: 0.1399\n",
      "Epoch 18/50\n",
      "643/644 [============================>.] - ETA: 0s - loss: 4.3162 - accuracy: 0.1454WARNING:tensorflow:Early stopping conditioned on metric `val_loss` which is not available. Available metrics are: loss,accuracy\n",
      "644/644 [==============================] - 26s 40ms/step - loss: 4.3164 - accuracy: 0.1453\n",
      "Epoch 19/50\n",
      "644/644 [==============================] - ETA: 0s - loss: 4.2224 - accuracy: 0.1555WARNING:tensorflow:Early stopping conditioned on metric `val_loss` which is not available. Available metrics are: loss,accuracy\n",
      "644/644 [==============================] - 29s 45ms/step - loss: 4.2224 - accuracy: 0.1555\n",
      "Epoch 20/50\n",
      "644/644 [==============================] - ETA: 0s - loss: 4.1270 - accuracy: 0.1657WARNING:tensorflow:Early stopping conditioned on metric `val_loss` which is not available. Available metrics are: loss,accuracy\n",
      "644/644 [==============================] - 24s 37ms/step - loss: 4.1270 - accuracy: 0.1657\n",
      "Epoch 21/50\n",
      "644/644 [==============================] - ETA: 0s - loss: 4.0367 - accuracy: 0.1793WARNING:tensorflow:Early stopping conditioned on metric `val_loss` which is not available. Available metrics are: loss,accuracy\n",
      "644/644 [==============================] - 25s 39ms/step - loss: 4.0367 - accuracy: 0.1793\n",
      "Epoch 22/50\n",
      "644/644 [==============================] - ETA: 0s - loss: 3.9539 - accuracy: 0.1913WARNING:tensorflow:Early stopping conditioned on metric `val_loss` which is not available. Available metrics are: loss,accuracy\n",
      "644/644 [==============================] - 26s 41ms/step - loss: 3.9539 - accuracy: 0.1913\n",
      "Epoch 23/50\n",
      "643/644 [============================>.] - ETA: 0s - loss: 3.8737 - accuracy: 0.2033WARNING:tensorflow:Early stopping conditioned on metric `val_loss` which is not available. Available metrics are: loss,accuracy\n",
      "644/644 [==============================] - 25s 39ms/step - loss: 3.8739 - accuracy: 0.2033\n",
      "Epoch 24/50\n",
      "644/644 [==============================] - ETA: 0s - loss: 3.7982 - accuracy: 0.2175WARNING:tensorflow:Early stopping conditioned on metric `val_loss` which is not available. Available metrics are: loss,accuracy\n",
      "644/644 [==============================] - 28s 43ms/step - loss: 3.7982 - accuracy: 0.2175\n",
      "Epoch 25/50\n",
      "644/644 [==============================] - ETA: 0s - loss: 3.7195 - accuracy: 0.2278WARNING:tensorflow:Early stopping conditioned on metric `val_loss` which is not available. Available metrics are: loss,accuracy\n",
      "644/644 [==============================] - 23s 35ms/step - loss: 3.7195 - accuracy: 0.2278\n",
      "Epoch 26/50\n",
      "643/644 [============================>.] - ETA: 0s - loss: 3.6493 - accuracy: 0.2384WARNING:tensorflow:Early stopping conditioned on metric `val_loss` which is not available. Available metrics are: loss,accuracy\n",
      "644/644 [==============================] - 23s 36ms/step - loss: 3.6498 - accuracy: 0.2383\n",
      "Epoch 27/50\n",
      "643/644 [============================>.] - ETA: 0s - loss: 3.5829 - accuracy: 0.2552WARNING:tensorflow:Early stopping conditioned on metric `val_loss` which is not available. Available metrics are: loss,accuracy\n",
      "644/644 [==============================] - 22s 35ms/step - loss: 3.5829 - accuracy: 0.2552\n",
      "Epoch 28/50\n",
      "643/644 [============================>.] - ETA: 0s - loss: 3.5229 - accuracy: 0.2621WARNING:tensorflow:Early stopping conditioned on metric `val_loss` which is not available. Available metrics are: loss,accuracy\n",
      "644/644 [==============================] - 26s 40ms/step - loss: 3.5224 - accuracy: 0.2622\n",
      "Epoch 29/50\n",
      "643/644 [============================>.] - ETA: 0s - loss: 3.4578 - accuracy: 0.2745WARNING:tensorflow:Early stopping conditioned on metric `val_loss` which is not available. Available metrics are: loss,accuracy\n",
      "644/644 [==============================] - 24s 37ms/step - loss: 3.4575 - accuracy: 0.2745\n",
      "Epoch 30/50\n",
      "644/644 [==============================] - ETA: 0s - loss: 3.4000 - accuracy: 0.2828WARNING:tensorflow:Early stopping conditioned on metric `val_loss` which is not available. Available metrics are: loss,accuracy\n",
      "644/644 [==============================] - 21s 32ms/step - loss: 3.4000 - accuracy: 0.2828\n",
      "Epoch 31/50\n",
      "643/644 [============================>.] - ETA: 0s - loss: 3.3483 - accuracy: 0.2939WARNING:tensorflow:Early stopping conditioned on metric `val_loss` which is not available. Available metrics are: loss,accuracy\n",
      "644/644 [==============================] - 18s 29ms/step - loss: 3.3482 - accuracy: 0.2939\n",
      "Epoch 32/50\n",
      "644/644 [==============================] - ETA: 0s - loss: 3.2919 - accuracy: 0.3006WARNING:tensorflow:Early stopping conditioned on metric `val_loss` which is not available. Available metrics are: loss,accuracy\n",
      "644/644 [==============================] - 24s 38ms/step - loss: 3.2919 - accuracy: 0.3006\n",
      "Epoch 33/50\n",
      "644/644 [==============================] - ETA: 0s - loss: 3.2455 - accuracy: 0.3114WARNING:tensorflow:Early stopping conditioned on metric `val_loss` which is not available. Available metrics are: loss,accuracy\n",
      "644/644 [==============================] - 31s 49ms/step - loss: 3.2455 - accuracy: 0.3114\n",
      "Epoch 34/50\n",
      "643/644 [============================>.] - ETA: 0s - loss: 3.1933 - accuracy: 0.3207WARNING:tensorflow:Early stopping conditioned on metric `val_loss` which is not available. Available metrics are: loss,accuracy\n",
      "644/644 [==============================] - 25s 39ms/step - loss: 3.1932 - accuracy: 0.3206\n",
      "Epoch 35/50\n",
      "643/644 [============================>.] - ETA: 0s - loss: 3.1419 - accuracy: 0.3287WARNING:tensorflow:Early stopping conditioned on metric `val_loss` which is not available. Available metrics are: loss,accuracy\n",
      "644/644 [==============================] - 21s 33ms/step - loss: 3.1419 - accuracy: 0.3287\n",
      "Epoch 36/50\n",
      "643/644 [============================>.] - ETA: 0s - loss: 3.0970 - accuracy: 0.3347WARNING:tensorflow:Early stopping conditioned on metric `val_loss` which is not available. Available metrics are: loss,accuracy\n",
      "644/644 [==============================] - 21s 33ms/step - loss: 3.0974 - accuracy: 0.3347\n",
      "Epoch 37/50\n",
      "643/644 [============================>.] - ETA: 0s - loss: 3.0517 - accuracy: 0.3437WARNING:tensorflow:Early stopping conditioned on metric `val_loss` which is not available. Available metrics are: loss,accuracy\n",
      "644/644 [==============================] - 24s 38ms/step - loss: 3.0517 - accuracy: 0.3436\n",
      "Epoch 38/50\n",
      "643/644 [============================>.] - ETA: 0s - loss: 3.0041 - accuracy: 0.3552WARNING:tensorflow:Early stopping conditioned on metric `val_loss` which is not available. Available metrics are: loss,accuracy\n",
      "644/644 [==============================] - 25s 39ms/step - loss: 3.0039 - accuracy: 0.3553\n",
      "Epoch 39/50\n",
      "643/644 [============================>.] - ETA: 0s - loss: 2.9683 - accuracy: 0.3601WARNING:tensorflow:Early stopping conditioned on metric `val_loss` which is not available. Available metrics are: loss,accuracy\n",
      "644/644 [==============================] - 26s 41ms/step - loss: 2.9682 - accuracy: 0.3601\n",
      "Epoch 40/50\n",
      "643/644 [============================>.] - ETA: 0s - loss: 2.9238 - accuracy: 0.3709WARNING:tensorflow:Early stopping conditioned on metric `val_loss` which is not available. Available metrics are: loss,accuracy\n",
      "644/644 [==============================] - 26s 40ms/step - loss: 2.9242 - accuracy: 0.3708\n",
      "Epoch 41/50\n",
      "644/644 [==============================] - ETA: 0s - loss: 2.8844 - accuracy: 0.3725WARNING:tensorflow:Early stopping conditioned on metric `val_loss` which is not available. Available metrics are: loss,accuracy\n",
      "644/644 [==============================] - 27s 42ms/step - loss: 2.8844 - accuracy: 0.3725\n",
      "Epoch 42/50\n",
      "642/644 [============================>.] - ETA: 0s - loss: 2.8465 - accuracy: 0.3847WARNING:tensorflow:Early stopping conditioned on metric `val_loss` which is not available. Available metrics are: loss,accuracy\n",
      "644/644 [==============================] - 22s 33ms/step - loss: 2.8466 - accuracy: 0.3845\n",
      "Epoch 43/50\n",
      "642/644 [============================>.] - ETA: 0s - loss: 2.8061 - accuracy: 0.3901WARNING:tensorflow:Early stopping conditioned on metric `val_loss` which is not available. Available metrics are: loss,accuracy\n",
      "644/644 [==============================] - 17s 27ms/step - loss: 2.8065 - accuracy: 0.3899\n",
      "Epoch 44/50\n",
      "643/644 [============================>.] - ETA: 0s - loss: 2.7749 - accuracy: 0.3930WARNING:tensorflow:Early stopping conditioned on metric `val_loss` which is not available. Available metrics are: loss,accuracy\n",
      "644/644 [==============================] - 19s 30ms/step - loss: 2.7747 - accuracy: 0.3930\n",
      "Epoch 45/50\n",
      "644/644 [==============================] - ETA: 0s - loss: 2.7349 - accuracy: 0.4048WARNING:tensorflow:Early stopping conditioned on metric `val_loss` which is not available. Available metrics are: loss,accuracy\n",
      "644/644 [==============================] - 28s 43ms/step - loss: 2.7349 - accuracy: 0.4048\n",
      "Epoch 46/50\n",
      "643/644 [============================>.] - ETA: 0s - loss: 2.6927 - accuracy: 0.4106WARNING:tensorflow:Early stopping conditioned on metric `val_loss` which is not available. Available metrics are: loss,accuracy\n",
      "644/644 [==============================] - 25s 39ms/step - loss: 2.6926 - accuracy: 0.4106\n",
      "Epoch 47/50\n",
      "642/644 [============================>.] - ETA: 0s - loss: 2.6616 - accuracy: 0.4164WARNING:tensorflow:Early stopping conditioned on metric `val_loss` which is not available. Available metrics are: loss,accuracy\n",
      "644/644 [==============================] - 21s 33ms/step - loss: 2.6621 - accuracy: 0.4163\n",
      "Epoch 48/50\n",
      "642/644 [============================>.] - ETA: 0s - loss: 2.6255 - accuracy: 0.4219WARNING:tensorflow:Early stopping conditioned on metric `val_loss` which is not available. Available metrics are: loss,accuracy\n",
      "644/644 [==============================] - 19s 30ms/step - loss: 2.6260 - accuracy: 0.4217\n",
      "Epoch 49/50\n",
      "643/644 [============================>.] - ETA: 0s - loss: 2.5908 - accuracy: 0.4265WARNING:tensorflow:Early stopping conditioned on metric `val_loss` which is not available. Available metrics are: loss,accuracy\n",
      "644/644 [==============================] - 18s 29ms/step - loss: 2.5907 - accuracy: 0.4266\n",
      "Epoch 50/50\n",
      "643/644 [============================>.] - ETA: 0s - loss: 2.5585 - accuracy: 0.4373WARNING:tensorflow:Early stopping conditioned on metric `val_loss` which is not available. Available metrics are: loss,accuracy\n",
      "644/644 [==============================] - 18s 28ms/step - loss: 2.5588 - accuracy: 0.4372\n"
     ]
    }
   ],
   "source": [
    "history = model.fit(X_train, y_train, epochs=50, verbose=1,callbacks=[early_stopping])\n"
   ]
  },
  {
   "cell_type": "code",
   "execution_count": 18,
   "metadata": {},
   "outputs": [
    {
     "data": {
      "text/plain": [
       "'buried'"
      ]
     },
     "execution_count": 18,
     "metadata": {},
     "output_type": "execute_result"
    }
   ],
   "source": [
    "def predict_next_word(model,tokenizer,text,max_sequence_length):\n",
    "    token_list = tokenizer.texts_to_sequences([text])[0]\n",
    "    if len(token_list) >= max_sequence_length:\n",
    "        token_list = token_list[-(max_sequence_length-1):]\n",
    "    token_list = pad_sequences([token_list], maxlen=max_sequence_length-1, padding='pre')\n",
    "    predicted = model.predict(token_list, verbose=0)\n",
    "    predicted_word_index = np.argmax(predicted, axis=1)[0]\n",
    "    for word,index in tokenizer.word_index.items():\n",
    "        if index == predicted_word_index:\n",
    "            return word\n",
    "    return ''\n",
    "\n",
    "predict_next_word(model,tokenizer,'to be or not to be',max_sequence_length)"
   ]
  },
  {
   "cell_type": "code",
   "execution_count": 19,
   "metadata": {},
   "outputs": [
    {
     "name": "stderr",
     "output_type": "stream",
     "text": [
      "c:\\Users\\adhri\\anaconda3\\Lib\\site-packages\\keras\\src\\engine\\training.py:3103: UserWarning: You are saving your model as an HDF5 file via `model.save()`. This file format is considered legacy. We recommend using instead the native Keras format, e.g. `model.save('my_model.keras')`.\n",
      "  saving_api.save_model(\n"
     ]
    }
   ],
   "source": [
    "model.save(\"next_word_lstm.h5\")"
   ]
  },
  {
   "cell_type": "code",
   "execution_count": 20,
   "metadata": {},
   "outputs": [],
   "source": [
    "import pickle\n",
    "with open('tokenizer.pickle','wb') as file:\n",
    "  pickle.dump(tokenizer,file,protocol=pickle.HIGHEST_PROTOCOL)"
   ]
  },
  {
   "cell_type": "code",
   "execution_count": null,
   "metadata": {},
   "outputs": [],
   "source": []
  }
 ],
 "metadata": {
  "kernelspec": {
   "display_name": "Python 3",
   "language": "python",
   "name": "python3"
  },
  "language_info": {
   "codemirror_mode": {
    "name": "ipython",
    "version": 3
   },
   "file_extension": ".py",
   "mimetype": "text/x-python",
   "name": "python",
   "nbconvert_exporter": "python",
   "pygments_lexer": "ipython3",
   "version": "3.11.3"
  }
 },
 "nbformat": 4,
 "nbformat_minor": 2
}
