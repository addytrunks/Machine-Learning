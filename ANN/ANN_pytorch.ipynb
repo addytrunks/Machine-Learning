{
 "cells": [
  {
   "cell_type": "code",
   "execution_count": 96,
   "id": "8440b5d7-403d-40f5-985c-b7e822101820",
   "metadata": {},
   "outputs": [],
   "source": [
    "import pandas as pd\n",
    "import numpy as np\n",
    "import torch\n",
    "from torch import nn"
   ]
  },
  {
   "cell_type": "code",
   "execution_count": 97,
   "id": "5e4c7893-6baa-4856-aeb6-8206c7c88099",
   "metadata": {},
   "outputs": [],
   "source": [
    "dataset = pd.read_csv(\"Churn_Modelling.csv\")\n",
    "X = dataset.iloc[:,3:-1].values\n",
    "y = dataset.iloc[:,-1].values"
   ]
  },
  {
   "cell_type": "code",
   "execution_count": 98,
   "id": "fbfd69eb-1c2a-446e-80af-c3c11b95c401",
   "metadata": {},
   "outputs": [],
   "source": [
    "from sklearn.preprocessing import LabelEncoder\n",
    "le = LabelEncoder()\n",
    "\n",
    "X[:,2] = le.fit_transform(X[:,2])"
   ]
  },
  {
   "cell_type": "code",
   "execution_count": 99,
   "id": "8517388d-aba6-4d53-bcfa-42eff6c4f9b4",
   "metadata": {},
   "outputs": [],
   "source": [
    "from sklearn.compose import ColumnTransformer\n",
    "from sklearn.preprocessing import OneHotEncoder\n",
    "\n",
    "ct = ColumnTransformer(transformers=[('encoder',OneHotEncoder(),[1])],\n",
    "                       remainder='passthrough')\n",
    "X = np.array(ct.fit_transform(X))"
   ]
  },
  {
   "cell_type": "code",
   "execution_count": 100,
   "id": "111ecc80-d477-48fb-a9f2-3827d6971017",
   "metadata": {},
   "outputs": [],
   "source": [
    "from sklearn.model_selection import train_test_split\n",
    "X_train,X_test,y_train,y_test=train_test_split(X,y,test_size=0.2,random_state=0)"
   ]
  },
  {
   "cell_type": "code",
   "execution_count": 101,
   "id": "3f9fff92-0eaf-4245-a167-e2291ef0694f",
   "metadata": {},
   "outputs": [],
   "source": [
    "# All the features must be scaled in deep learning\n",
    "\n",
    "from sklearn.preprocessing import StandardScaler\n",
    "scaler = StandardScaler()\n",
    "\n",
    "X_train = scaler.fit_transform(X_train)\n",
    "\n",
    "X_test = scaler.transform(X_test)"
   ]
  },
  {
   "cell_type": "code",
   "execution_count": 102,
   "id": "0c1d2a01-7133-4b8f-9dc6-762a76b64475",
   "metadata": {},
   "outputs": [],
   "source": [
    "X_train,X_test,y_train,y_test = torch.from_numpy(X_train).type(torch.float32),torch.from_numpy(X_test).type(torch.float32),torch.from_numpy(y_train).type(torch.float32),torch.from_numpy(y_test).type(torch.float32)"
   ]
  },
  {
   "cell_type": "code",
   "execution_count": 103,
   "id": "26db140b-7525-4bc6-b548-f5b3dead657c",
   "metadata": {},
   "outputs": [],
   "source": [
    "class BClass(nn.Module):\n",
    "    def __init__(self):\n",
    "        super().__init__()\n",
    "        self.layers = nn.Sequential(\n",
    "            nn.Linear(in_features=12,out_features=8),\n",
    "            nn.ReLU(),\n",
    "            nn.Linear(in_features=8,out_features=8),\n",
    "            nn.ReLU(),\n",
    "            nn.Linear(in_features=8,out_features=1))\n",
    "    \n",
    "    def forward(self,x):\n",
    "        return self.layers(x)\n",
    "\n",
    "model = BClass()"
   ]
  },
  {
   "cell_type": "code",
   "execution_count": 104,
   "id": "a4d969ed-2b40-48b2-8d8d-634fe4730a2e",
   "metadata": {},
   "outputs": [],
   "source": [
    "loss_fn = nn.BCEWithLogitsLoss()\n",
    "optimizer = torch.optim.AdamW(model.parameters(), \n",
    "                            lr=0.01) "
   ]
  },
  {
   "cell_type": "code",
   "execution_count": 105,
   "id": "87869755-36a5-49af-86e0-d9605b56ead8",
   "metadata": {},
   "outputs": [],
   "source": [
    "# Calculate accuracy (a classification metric)\n",
    "def accuracy_fn(y_true, y_pred):\n",
    "    correct = torch.eq(y_true, y_pred).sum().item() # torch.eq() calculates where two tensors are equal\n",
    "    acc = (correct / len(y_pred)) * 100 \n",
    "    return acc"
   ]
  },
  {
   "cell_type": "code",
   "execution_count": 106,
   "id": "5f951aea-9860-410b-b3ec-654dbee0eb83",
   "metadata": {},
   "outputs": [
    {
     "name": "stdout",
     "output_type": "stream",
     "text": [
      "Epoch: 0 | Loss: 0.73054, Accuracy: 22.62%\n",
      "Epoch: 100 | Loss: 0.36979, Accuracy: 82.09%\n",
      "Epoch: 200 | Loss: 0.33538, Accuracy: 86.40%\n",
      "Epoch: 300 | Loss: 0.32809, Accuracy: 86.71%\n",
      "Epoch: 400 | Loss: 0.32555, Accuracy: 86.74%\n",
      "Epoch: 500 | Loss: 0.32465, Accuracy: 86.79%\n",
      "Epoch: 600 | Loss: 0.32413, Accuracy: 86.75%\n",
      "Epoch: 700 | Loss: 0.32333, Accuracy: 86.78%\n",
      "Epoch: 800 | Loss: 0.32212, Accuracy: 86.86%\n",
      "Epoch: 900 | Loss: 0.32191, Accuracy: 86.86%\n"
     ]
    }
   ],
   "source": [
    "torch.manual_seed(42)\n",
    "\n",
    "epochs = 1000\n",
    "\n",
    "for epoch in range(epochs):\n",
    "    model.train()\n",
    "\n",
    "    y_logits = model(X_train).squeeze()\n",
    "    loss = loss_fn(y_logits,\n",
    "                   y_train) \n",
    "    y_pred = torch.round(torch.sigmoid(y_logits))\n",
    "    acc = accuracy_fn(y_true=y_train, \n",
    "                      y_pred=y_pred)\n",
    "\n",
    "    optimizer.zero_grad()\n",
    "\n",
    "    loss.backward()\n",
    "\n",
    "    optimizer.step()\n",
    "\n",
    "    if epoch % 100 == 0:\n",
    "        print(f\"Epoch: {epoch} | Loss: {loss:.5f}, Accuracy: {acc:.2f}%\")"
   ]
  },
  {
   "cell_type": "code",
   "execution_count": 113,
   "id": "7c09c2ff-85ed-46b3-8eed-922e5e31ccbb",
   "metadata": {},
   "outputs": [],
   "source": [
    "model.eval()\n",
    "with torch.inference_mode():\n",
    "    y_pred_test = torch.round(torch.sigmoid(model(X_test)))\n",
    "y_pred_test = y_pred_test.detach().numpy() "
   ]
  },
  {
   "cell_type": "code",
   "execution_count": 115,
   "id": "b4d64620-da18-4147-a844-7b5948cd48b5",
   "metadata": {},
   "outputs": [
    {
     "name": "stdout",
     "output_type": "stream",
     "text": [
      "[[0. 0.]\n",
      " [0. 1.]\n",
      " [0. 0.]\n",
      " ...\n",
      " [0. 0.]\n",
      " [0. 0.]\n",
      " [0. 0.]]\n"
     ]
    }
   ],
   "source": [
    "print(np.concatenate((y_pred_test.reshape(len(y_pred_test),1),y_test.reshape(len(y_test),1)),1))"
   ]
  },
  {
   "cell_type": "code",
   "execution_count": 116,
   "id": "4d7c6255-2143-4bb4-9392-6f77a3175ec8",
   "metadata": {},
   "outputs": [
    {
     "name": "stdout",
     "output_type": "stream",
     "text": [
      "Confusion Matrix:\n",
      "[[1510   85]\n",
      " [ 204  201]]\n",
      "Accuracy: 0.8555\n"
     ]
    }
   ],
   "source": [
    "from sklearn.metrics import confusion_matrix, accuracy_score\n",
    "\n",
    "# Assuming you have predicted labels 'y_pred' and actual labels 'y_true'\n",
    "cm = confusion_matrix(y_test, y_pred_test)\n",
    "accuracy = accuracy_score(y_test, y_pred_test)\n",
    "\n",
    "print(\"Confusion Matrix:\")\n",
    "print(cm)\n",
    "print(\"Accuracy:\", accuracy)"
   ]
  }
 ],
 "metadata": {
  "kernelspec": {
   "display_name": "Python 3 (ipykernel)",
   "language": "python",
   "name": "python3"
  },
  "language_info": {
   "codemirror_mode": {
    "name": "ipython",
    "version": 3
   },
   "file_extension": ".py",
   "mimetype": "text/x-python",
   "name": "python",
   "nbconvert_exporter": "python",
   "pygments_lexer": "ipython3",
   "version": "3.11.3"
  }
 },
 "nbformat": 4,
 "nbformat_minor": 5
}
