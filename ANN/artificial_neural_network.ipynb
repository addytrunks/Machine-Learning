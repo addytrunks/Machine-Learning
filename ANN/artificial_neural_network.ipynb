{
 "cells": [
  {
   "cell_type": "markdown",
   "metadata": {
    "colab_type": "text",
    "id": "lP6JLo1tGNBg"
   },
   "source": [
    "# Artificial Neural Network"
   ]
  },
  {
   "cell_type": "markdown",
   "metadata": {
    "colab_type": "text",
    "id": "gWZyYmS_UE_L"
   },
   "source": [
    "### Importing the libraries"
   ]
  },
  {
   "cell_type": "code",
   "execution_count": 74,
   "metadata": {
    "colab": {},
    "colab_type": "code",
    "id": "MxkJoQBkUIHC"
   },
   "outputs": [],
   "source": [
    "import numpy as np\n",
    "import pandas as pd\n",
    "import tensorflow as tf"
   ]
  },
  {
   "cell_type": "code",
   "execution_count": 75,
   "metadata": {
    "colab": {
     "base_uri": "https://localhost:8080/",
     "height": 34
    },
    "colab_type": "code",
    "id": "ZaTwK7ojXr2F",
    "outputId": "0b27a96d-d11a-43e8-ab4b-87c1f01896fe"
   },
   "outputs": [
    {
     "data": {
      "text/plain": [
       "'2.15.0'"
      ]
     },
     "execution_count": 75,
     "metadata": {},
     "output_type": "execute_result"
    }
   ],
   "source": [
    "tf.__version__"
   ]
  },
  {
   "cell_type": "markdown",
   "metadata": {
    "colab_type": "text",
    "id": "1E0Q3aoKUCRX"
   },
   "source": [
    "## Part 1 - Data Preprocessing"
   ]
  },
  {
   "cell_type": "markdown",
   "metadata": {
    "colab_type": "text",
    "id": "cKWAkFVGUU0Z"
   },
   "source": [
    "### Importing the dataset"
   ]
  },
  {
   "cell_type": "code",
   "execution_count": 76,
   "metadata": {},
   "outputs": [],
   "source": [
    "dataset = pd.read_csv(\"Churn_Modelling.csv\")\n",
    "X = dataset.iloc[:,3:-1].values\n",
    "y = dataset.iloc[:,-1].values"
   ]
  },
  {
   "cell_type": "code",
   "execution_count": 77,
   "metadata": {},
   "outputs": [
    {
     "data": {
      "text/plain": [
       "array([[619, 'France', 'Female', ..., 1, 1, 101348.88],\n",
       "       [608, 'Spain', 'Female', ..., 0, 1, 112542.58],\n",
       "       [502, 'France', 'Female', ..., 1, 0, 113931.57],\n",
       "       ...,\n",
       "       [709, 'France', 'Female', ..., 0, 1, 42085.58],\n",
       "       [772, 'Germany', 'Male', ..., 1, 0, 92888.52],\n",
       "       [792, 'France', 'Female', ..., 1, 0, 38190.78]], dtype=object)"
      ]
     },
     "execution_count": 77,
     "metadata": {},
     "output_type": "execute_result"
    }
   ],
   "source": [
    "X"
   ]
  },
  {
   "cell_type": "code",
   "execution_count": 78,
   "metadata": {},
   "outputs": [
    {
     "data": {
      "text/plain": [
       "array([1, 0, 1, ..., 1, 1, 0], dtype=int64)"
      ]
     },
     "execution_count": 78,
     "metadata": {},
     "output_type": "execute_result"
    }
   ],
   "source": [
    "y"
   ]
  },
  {
   "cell_type": "markdown",
   "metadata": {
    "colab_type": "text",
    "id": "N6bQ0UgSU-NJ"
   },
   "source": [
    "### Encoding categorical data"
   ]
  },
  {
   "cell_type": "markdown",
   "metadata": {
    "colab_type": "text",
    "id": "le5MJreAbW52"
   },
   "source": [
    "Label Encoding the \"Gender\" column"
   ]
  },
  {
   "cell_type": "code",
   "execution_count": 79,
   "metadata": {},
   "outputs": [],
   "source": [
    "from sklearn.preprocessing import LabelEncoder\n",
    "le = LabelEncoder()\n",
    "\n",
    "X[:,2] = le.fit_transform(X[:,2])"
   ]
  },
  {
   "cell_type": "markdown",
   "metadata": {
    "colab_type": "text",
    "id": "CUxGZezpbMcb"
   },
   "source": [
    "One Hot Encoding the \"Geography\" column"
   ]
  },
  {
   "cell_type": "code",
   "execution_count": 80,
   "metadata": {},
   "outputs": [
    {
     "data": {
      "text/plain": [
       "array([1.0, 0.0, 0.0, 619, 0, 42, 2, 0.0, 1, 1, 1, 101348.88],\n",
       "      dtype=object)"
      ]
     },
     "execution_count": 80,
     "metadata": {},
     "output_type": "execute_result"
    }
   ],
   "source": [
    "from sklearn.compose import ColumnTransformer\n",
    "from sklearn.preprocessing import OneHotEncoder\n",
    "\n",
    "ct = ColumnTransformer(transformers=[('encoder',OneHotEncoder(),[1])],\n",
    "                       remainder='passthrough')\n",
    "X = np.array(ct.fit_transform(X))\n",
    "X[0,:]"
   ]
  },
  {
   "cell_type": "markdown",
   "metadata": {
    "colab_type": "text",
    "id": "vHol938cW8zd"
   },
   "source": [
    "### Splitting the dataset into the Training set and Test set"
   ]
  },
  {
   "cell_type": "code",
   "execution_count": 81,
   "metadata": {},
   "outputs": [],
   "source": [
    "from sklearn.model_selection import train_test_split\n",
    "X_train,X_test,y_train,y_test=train_test_split(X,y,test_size=0.2,random_state=0)"
   ]
  },
  {
   "cell_type": "markdown",
   "metadata": {
    "colab_type": "text",
    "id": "RE_FcHyfV3TQ"
   },
   "source": [
    "### Feature Scaling (Abosultely compulsory for deep learning)"
   ]
  },
  {
   "cell_type": "code",
   "execution_count": 82,
   "metadata": {},
   "outputs": [],
   "source": [
    "# All the features must be scaled in deep learning\n",
    "\n",
    "from sklearn.preprocessing import StandardScaler\n",
    "scaler = StandardScaler()\n",
    "\n",
    "X_train = scaler.fit_transform(X_train)\n",
    "\n",
    "X_test = scaler.transform(X_test)"
   ]
  },
  {
   "cell_type": "markdown",
   "metadata": {
    "colab_type": "text",
    "id": "-zfEzkRVXIwF"
   },
   "source": [
    "## Part 2 - Building the ANN"
   ]
  },
  {
   "cell_type": "markdown",
   "metadata": {
    "colab_type": "text",
    "id": "KvdeScabXtlB"
   },
   "source": [
    "### Initializing the ANN"
   ]
  },
  {
   "cell_type": "code",
   "execution_count": 83,
   "metadata": {},
   "outputs": [],
   "source": [
    "ann = tf.keras.models.Sequential()"
   ]
  },
  {
   "cell_type": "markdown",
   "metadata": {
    "colab_type": "text",
    "id": "rP6urV6SX7kS"
   },
   "source": [
    "### Adding the input layer and the first hidden layer"
   ]
  },
  {
   "cell_type": "code",
   "execution_count": 84,
   "metadata": {},
   "outputs": [],
   "source": [
    "ann.add(tf.keras.layers.Dense(units=6,activation='relu'))"
   ]
  },
  {
   "cell_type": "markdown",
   "metadata": {
    "colab_type": "text",
    "id": "BELWAc_8YJze"
   },
   "source": [
    "### Adding the second hidden layer"
   ]
  },
  {
   "cell_type": "code",
   "execution_count": 85,
   "metadata": {},
   "outputs": [],
   "source": [
    "ann.add(tf.keras.layers.Dense(units=6,activation='sigmoid'))"
   ]
  },
  {
   "cell_type": "markdown",
   "metadata": {
    "colab_type": "text",
    "id": "OyNEe6RXYcU4"
   },
   "source": [
    "### Adding the output layer"
   ]
  },
  {
   "cell_type": "code",
   "execution_count": 86,
   "metadata": {},
   "outputs": [],
   "source": [
    "ann.add(tf.keras.layers.Dense(units=1))"
   ]
  },
  {
   "cell_type": "markdown",
   "metadata": {
    "colab_type": "text",
    "id": "JT4u2S1_Y4WG"
   },
   "source": [
    "## Part 3 - Training the ANN"
   ]
  },
  {
   "cell_type": "markdown",
   "metadata": {
    "colab_type": "text",
    "id": "8GWlJChhY_ZI"
   },
   "source": [
    "### Compiling the ANN"
   ]
  },
  {
   "cell_type": "code",
   "execution_count": 87,
   "metadata": {},
   "outputs": [],
   "source": [
    "# Providing an optimizer (updates the weights based on the losses), loss function (calculates the loss bw the actual and predicted values)\n",
    "# \n",
    "ann.compile(optimizer='adam',loss='binary_crossentropy',metrics=['accuracy'])"
   ]
  },
  {
   "cell_type": "markdown",
   "metadata": {
    "colab_type": "text",
    "id": "0QR_G5u7ZLSM"
   },
   "source": [
    "### Training the ANN on the Training set"
   ]
  },
  {
   "cell_type": "code",
   "execution_count": 90,
   "metadata": {},
   "outputs": [
    {
     "name": "stdout",
     "output_type": "stream",
     "text": [
      "Epoch 1/100\n",
      "250/250 [==============================] - 0s 947us/step - loss: 0.3439 - accuracy: 0.8590\n",
      "Epoch 2/100\n",
      "250/250 [==============================] - 0s 926us/step - loss: 0.3431 - accuracy: 0.8587\n",
      "Epoch 3/100\n",
      "250/250 [==============================] - 0s 900us/step - loss: 0.3448 - accuracy: 0.8591\n",
      "Epoch 4/100\n",
      "250/250 [==============================] - 0s 892us/step - loss: 0.3505 - accuracy: 0.8587\n",
      "Epoch 5/100\n",
      "250/250 [==============================] - 0s 952us/step - loss: 0.3450 - accuracy: 0.8590\n",
      "Epoch 6/100\n",
      "250/250 [==============================] - 0s 908us/step - loss: 0.3443 - accuracy: 0.8599\n",
      "Epoch 7/100\n",
      "250/250 [==============================] - 0s 1ms/step - loss: 0.3453 - accuracy: 0.8593\n",
      "Epoch 8/100\n",
      "250/250 [==============================] - 0s 944us/step - loss: 0.3474 - accuracy: 0.8577\n",
      "Epoch 9/100\n",
      "250/250 [==============================] - 0s 916us/step - loss: 0.3422 - accuracy: 0.8602\n",
      "Epoch 10/100\n",
      "250/250 [==============================] - 0s 919us/step - loss: 0.3425 - accuracy: 0.8593\n",
      "Epoch 11/100\n",
      "250/250 [==============================] - 0s 921us/step - loss: 0.3424 - accuracy: 0.8584\n",
      "Epoch 12/100\n",
      "250/250 [==============================] - 0s 919us/step - loss: 0.3459 - accuracy: 0.8581\n",
      "Epoch 13/100\n",
      "250/250 [==============================] - 0s 940us/step - loss: 0.3417 - accuracy: 0.8604\n",
      "Epoch 14/100\n",
      "250/250 [==============================] - 0s 1ms/step - loss: 0.3438 - accuracy: 0.8602\n",
      "Epoch 15/100\n",
      "250/250 [==============================] - 0s 931us/step - loss: 0.3475 - accuracy: 0.8593\n",
      "Epoch 16/100\n",
      "250/250 [==============================] - 0s 1ms/step - loss: 0.3432 - accuracy: 0.8604\n",
      "Epoch 17/100\n",
      "250/250 [==============================] - 0s 928us/step - loss: 0.3415 - accuracy: 0.8608\n",
      "Epoch 18/100\n",
      "250/250 [==============================] - 0s 927us/step - loss: 0.3502 - accuracy: 0.8583\n",
      "Epoch 19/100\n",
      "250/250 [==============================] - 0s 907us/step - loss: 0.3468 - accuracy: 0.8584\n",
      "Epoch 20/100\n",
      "250/250 [==============================] - 0s 895us/step - loss: 0.3519 - accuracy: 0.8599\n",
      "Epoch 21/100\n",
      "250/250 [==============================] - 0s 920us/step - loss: 0.3427 - accuracy: 0.8602\n",
      "Epoch 22/100\n",
      "250/250 [==============================] - 0s 912us/step - loss: 0.3423 - accuracy: 0.8610\n",
      "Epoch 23/100\n",
      "250/250 [==============================] - 0s 931us/step - loss: 0.3402 - accuracy: 0.8602\n",
      "Epoch 24/100\n",
      "250/250 [==============================] - 0s 916us/step - loss: 0.3467 - accuracy: 0.8594\n",
      "Epoch 25/100\n",
      "250/250 [==============================] - 0s 927us/step - loss: 0.4056 - accuracy: 0.8455\n",
      "Epoch 26/100\n",
      "250/250 [==============================] - 0s 926us/step - loss: 0.3788 - accuracy: 0.8551\n",
      "Epoch 27/100\n",
      "250/250 [==============================] - 0s 1ms/step - loss: 0.3570 - accuracy: 0.8586\n",
      "Epoch 28/100\n",
      "250/250 [==============================] - 0s 922us/step - loss: 0.3557 - accuracy: 0.8604\n",
      "Epoch 29/100\n",
      "250/250 [==============================] - 0s 949us/step - loss: 0.3507 - accuracy: 0.8601\n",
      "Epoch 30/100\n",
      "250/250 [==============================] - 0s 1ms/step - loss: 0.3490 - accuracy: 0.8595\n",
      "Epoch 31/100\n",
      "250/250 [==============================] - 0s 1ms/step - loss: 0.3686 - accuracy: 0.8586\n",
      "Epoch 32/100\n",
      "250/250 [==============================] - 0s 1ms/step - loss: 0.3500 - accuracy: 0.8570\n",
      "Epoch 33/100\n",
      "250/250 [==============================] - 0s 1ms/step - loss: 0.3445 - accuracy: 0.8586\n",
      "Epoch 34/100\n",
      "250/250 [==============================] - 0s 1ms/step - loss: 0.3427 - accuracy: 0.8595\n",
      "Epoch 35/100\n",
      "250/250 [==============================] - 0s 1ms/step - loss: 0.3415 - accuracy: 0.8594\n",
      "Epoch 36/100\n",
      "250/250 [==============================] - 0s 1ms/step - loss: 0.3404 - accuracy: 0.8606\n",
      "Epoch 37/100\n",
      "250/250 [==============================] - 0s 932us/step - loss: 0.3391 - accuracy: 0.8608\n",
      "Epoch 38/100\n",
      "250/250 [==============================] - 0s 953us/step - loss: 0.3378 - accuracy: 0.8615\n",
      "Epoch 39/100\n",
      "250/250 [==============================] - 0s 945us/step - loss: 0.3378 - accuracy: 0.8616\n",
      "Epoch 40/100\n",
      "250/250 [==============================] - 0s 1ms/step - loss: 0.3373 - accuracy: 0.8615\n",
      "Epoch 41/100\n",
      "250/250 [==============================] - 0s 935us/step - loss: 0.3376 - accuracy: 0.8604\n",
      "Epoch 42/100\n",
      "250/250 [==============================] - 0s 917us/step - loss: 0.3369 - accuracy: 0.8600\n",
      "Epoch 43/100\n",
      "250/250 [==============================] - 0s 1ms/step - loss: 0.3395 - accuracy: 0.8608\n",
      "Epoch 44/100\n",
      "250/250 [==============================] - 0s 2ms/step - loss: 0.3409 - accuracy: 0.8585\n",
      "Epoch 45/100\n",
      "250/250 [==============================] - 0s 941us/step - loss: 0.3398 - accuracy: 0.8590\n",
      "Epoch 46/100\n",
      "250/250 [==============================] - 0s 934us/step - loss: 0.3389 - accuracy: 0.8622\n",
      "Epoch 47/100\n",
      "250/250 [==============================] - 0s 877us/step - loss: 0.3394 - accuracy: 0.8611\n",
      "Epoch 48/100\n",
      "250/250 [==============================] - 0s 911us/step - loss: 0.3480 - accuracy: 0.8621\n",
      "Epoch 49/100\n",
      "250/250 [==============================] - 0s 960us/step - loss: 0.3443 - accuracy: 0.8602\n",
      "Epoch 50/100\n",
      "250/250 [==============================] - 0s 961us/step - loss: 0.3397 - accuracy: 0.8609\n",
      "Epoch 51/100\n",
      "250/250 [==============================] - 0s 907us/step - loss: 0.3401 - accuracy: 0.8602\n",
      "Epoch 52/100\n",
      "250/250 [==============================] - 0s 872us/step - loss: 0.3497 - accuracy: 0.8622\n",
      "Epoch 53/100\n",
      "250/250 [==============================] - 0s 908us/step - loss: 0.3382 - accuracy: 0.8606\n",
      "Epoch 54/100\n",
      "250/250 [==============================] - 0s 948us/step - loss: 0.3762 - accuracy: 0.8526\n",
      "Epoch 55/100\n",
      "250/250 [==============================] - 0s 951us/step - loss: 0.3914 - accuracy: 0.8585\n",
      "Epoch 56/100\n",
      "250/250 [==============================] - 0s 910us/step - loss: 0.3651 - accuracy: 0.8593\n",
      "Epoch 57/100\n",
      "250/250 [==============================] - 0s 983us/step - loss: 0.3521 - accuracy: 0.8608\n",
      "Epoch 58/100\n",
      "250/250 [==============================] - 0s 938us/step - loss: 0.3443 - accuracy: 0.8621\n",
      "Epoch 59/100\n",
      "250/250 [==============================] - 0s 913us/step - loss: 0.3396 - accuracy: 0.8615\n",
      "Epoch 60/100\n",
      "250/250 [==============================] - 0s 970us/step - loss: 0.3390 - accuracy: 0.8633\n",
      "Epoch 61/100\n",
      "250/250 [==============================] - 0s 940us/step - loss: 0.3381 - accuracy: 0.8612\n",
      "Epoch 62/100\n",
      "250/250 [==============================] - 0s 925us/step - loss: 0.3376 - accuracy: 0.8615\n",
      "Epoch 63/100\n",
      "250/250 [==============================] - 0s 867us/step - loss: 0.3377 - accuracy: 0.8615\n",
      "Epoch 64/100\n",
      "250/250 [==============================] - 0s 887us/step - loss: 0.3386 - accuracy: 0.8612\n",
      "Epoch 65/100\n",
      "250/250 [==============================] - 0s 922us/step - loss: 0.3369 - accuracy: 0.8621\n",
      "Epoch 66/100\n",
      "250/250 [==============================] - 0s 890us/step - loss: 0.3376 - accuracy: 0.8624\n",
      "Epoch 67/100\n",
      "250/250 [==============================] - 0s 961us/step - loss: 0.3383 - accuracy: 0.8612\n",
      "Epoch 68/100\n",
      "250/250 [==============================] - 0s 916us/step - loss: 0.3368 - accuracy: 0.8606\n",
      "Epoch 69/100\n",
      "250/250 [==============================] - 0s 893us/step - loss: 0.3373 - accuracy: 0.8615\n",
      "Epoch 70/100\n",
      "250/250 [==============================] - 0s 902us/step - loss: 0.3380 - accuracy: 0.8612\n",
      "Epoch 71/100\n",
      "250/250 [==============================] - 0s 1ms/step - loss: 0.3369 - accuracy: 0.8630\n",
      "Epoch 72/100\n",
      "250/250 [==============================] - 0s 1ms/step - loss: 0.3377 - accuracy: 0.8600\n",
      "Epoch 73/100\n",
      "250/250 [==============================] - 0s 1ms/step - loss: 0.3397 - accuracy: 0.8606\n",
      "Epoch 74/100\n",
      "250/250 [==============================] - 0s 1ms/step - loss: 0.3388 - accuracy: 0.8622\n",
      "Epoch 75/100\n",
      "250/250 [==============================] - 0s 1ms/step - loss: 0.3371 - accuracy: 0.8608\n",
      "Epoch 76/100\n",
      "250/250 [==============================] - 0s 976us/step - loss: 0.3363 - accuracy: 0.8610\n",
      "Epoch 77/100\n",
      "250/250 [==============================] - 0s 906us/step - loss: 0.3407 - accuracy: 0.8615\n",
      "Epoch 78/100\n",
      "250/250 [==============================] - 0s 874us/step - loss: 0.3396 - accuracy: 0.8619\n",
      "Epoch 79/100\n",
      "250/250 [==============================] - 0s 934us/step - loss: 0.3395 - accuracy: 0.8620\n",
      "Epoch 80/100\n",
      "250/250 [==============================] - 0s 879us/step - loss: 0.3404 - accuracy: 0.8621\n",
      "Epoch 81/100\n",
      "250/250 [==============================] - 0s 887us/step - loss: 0.3389 - accuracy: 0.8622\n",
      "Epoch 82/100\n",
      "250/250 [==============================] - 0s 2ms/step - loss: 0.3401 - accuracy: 0.8618\n",
      "Epoch 83/100\n",
      "250/250 [==============================] - 1s 2ms/step - loss: 0.3363 - accuracy: 0.8611\n",
      "Epoch 84/100\n",
      "250/250 [==============================] - 0s 1ms/step - loss: 0.3372 - accuracy: 0.8611\n",
      "Epoch 85/100\n",
      "250/250 [==============================] - 0s 1ms/step - loss: 0.3371 - accuracy: 0.8612\n",
      "Epoch 86/100\n",
      "250/250 [==============================] - 0s 969us/step - loss: 0.3379 - accuracy: 0.8619\n",
      "Epoch 87/100\n",
      "250/250 [==============================] - 0s 2ms/step - loss: 0.3419 - accuracy: 0.8625\n",
      "Epoch 88/100\n",
      "250/250 [==============================] - 0s 2ms/step - loss: 0.3374 - accuracy: 0.8631\n",
      "Epoch 89/100\n",
      "250/250 [==============================] - 0s 951us/step - loss: 0.3446 - accuracy: 0.8616\n",
      "Epoch 90/100\n",
      "250/250 [==============================] - 0s 1ms/step - loss: 0.3384 - accuracy: 0.8634\n",
      "Epoch 91/100\n",
      "250/250 [==============================] - 0s 1ms/step - loss: 0.3383 - accuracy: 0.8622\n",
      "Epoch 92/100\n",
      "250/250 [==============================] - 0s 860us/step - loss: 0.3376 - accuracy: 0.8622\n",
      "Epoch 93/100\n",
      "250/250 [==============================] - 0s 913us/step - loss: 0.3378 - accuracy: 0.8619\n",
      "Epoch 94/100\n",
      "250/250 [==============================] - 0s 1ms/step - loss: 0.3429 - accuracy: 0.8629\n",
      "Epoch 95/100\n",
      "250/250 [==============================] - 0s 939us/step - loss: 0.3409 - accuracy: 0.8610\n",
      "Epoch 96/100\n",
      "250/250 [==============================] - 0s 864us/step - loss: 0.3386 - accuracy: 0.8626\n",
      "Epoch 97/100\n",
      "250/250 [==============================] - 0s 1ms/step - loss: 0.3378 - accuracy: 0.8619\n",
      "Epoch 98/100\n",
      "250/250 [==============================] - 0s 885us/step - loss: 0.3373 - accuracy: 0.8615\n",
      "Epoch 99/100\n",
      "250/250 [==============================] - 0s 867us/step - loss: 0.3741 - accuracy: 0.8553\n",
      "Epoch 100/100\n",
      "250/250 [==============================] - 0s 859us/step - loss: 0.3620 - accuracy: 0.8600\n"
     ]
    },
    {
     "data": {
      "text/plain": [
       "<keras.src.callbacks.History at 0x22a1ab09650>"
      ]
     },
     "execution_count": 90,
     "metadata": {},
     "output_type": "execute_result"
    }
   ],
   "source": [
    "ann.fit(X_train,y_train,batch_size=32,epochs=100)"
   ]
  },
  {
   "cell_type": "markdown",
   "metadata": {
    "colab_type": "text",
    "id": "tJj5k2MxZga3"
   },
   "source": [
    "## Part 4 - Making the predictions and evaluating the model"
   ]
  },
  {
   "cell_type": "markdown",
   "metadata": {
    "colab_type": "text",
    "id": "84QFoqGYeXHL"
   },
   "source": [
    "### Predicting the result of a single observation"
   ]
  },
  {
   "cell_type": "markdown",
   "metadata": {
    "colab_type": "text",
    "id": "CGRo3eacgDdC"
   },
   "source": [
    "**Homework**\n",
    "\n",
    "Use our ANN model to predict if the customer with the following informations will leave the bank: \n",
    "\n",
    "Geography: France\n",
    "\n",
    "Credit Score: 600\n",
    "\n",
    "Gender: Male\n",
    "\n",
    "Age: 40 years old\n",
    "\n",
    "Tenure: 3 years\n",
    "\n",
    "Balance: \\$ 60000\n",
    "\n",
    "Number of Products: 2\n",
    "\n",
    "Does this customer have a credit card ? Yes\n",
    "\n",
    "Is this customer an Active Member: Yes\n",
    "\n",
    "Estimated Salary: \\$ 50000\n",
    "\n",
    "So, should we say goodbye to that customer ?"
   ]
  },
  {
   "cell_type": "markdown",
   "metadata": {
    "colab_type": "text",
    "id": "ZhU1LTgPg-kH"
   },
   "source": [
    "**Solution**"
   ]
  },
  {
   "cell_type": "markdown",
   "metadata": {
    "colab_type": "text",
    "id": "wGjx94g2n7OV"
   },
   "source": [
    "Therefore, our ANN model predicts that this customer stays in the bank!\n",
    "\n",
    "**Important note 1:** Notice that the values of the features were all input in a double pair of square brackets. That's because the \"predict\" method always expects a 2D array as the format of its inputs. And putting our values into a double pair of square brackets makes the input exactly a 2D array.\n",
    "\n",
    "**Important note 2:** Notice also that the \"France\" country was not input as a string in the last column but as \"1, 0, 0\" in the first three columns. That's because of course the predict method expects the one-hot-encoded values of the state, and as we see in the first row of the matrix of features X, \"France\" was encoded as \"1, 0, 0\". And be careful to include these values in the first three columns, because the dummy variables are always created in the first columns."
   ]
  },
  {
   "cell_type": "code",
   "execution_count": 106,
   "metadata": {},
   "outputs": [
    {
     "name": "stdout",
     "output_type": "stream",
     "text": [
      "1/1 [==============================] - 0s 20ms/step\n",
      "Customer won't stay\n"
     ]
    }
   ],
   "source": [
    "X_test_single = [[1,0,0,600,1,40,3,60000,2,1,1,50000]]\n",
    "X_test_single = scaler.transform(X_test_single)\n",
    "if ann.predict(X_test_single) > 0.5:\n",
    "    print(\"Customer will stay\")\n",
    "else:\n",
    "    print(\"Customer won't stay\")"
   ]
  },
  {
   "cell_type": "markdown",
   "metadata": {
    "colab_type": "text",
    "id": "u7yx47jPZt11"
   },
   "source": [
    "### Predicting the Test set results"
   ]
  },
  {
   "cell_type": "code",
   "execution_count": 113,
   "metadata": {},
   "outputs": [
    {
     "name": "stdout",
     "output_type": "stream",
     "text": [
      "63/63 [==============================] - 0s 884us/step\n",
      "[[0 0]\n",
      " [0 1]\n",
      " [0 0]\n",
      " ...\n",
      " [0 0]\n",
      " [0 0]\n",
      " [0 0]]\n"
     ]
    }
   ],
   "source": [
    "y_pred = (ann.predict(X_test) > 0.5).astype(int)\n",
    "print(np.concatenate((y_pred.reshape(len(y_pred),1),y_test.reshape(len(y_test),1)),1))"
   ]
  },
  {
   "cell_type": "markdown",
   "metadata": {
    "colab_type": "text",
    "id": "o0oyfLWoaEGw"
   },
   "source": [
    "### Making the Confusion Matrix"
   ]
  },
  {
   "cell_type": "code",
   "execution_count": 114,
   "metadata": {},
   "outputs": [
    {
     "name": "stdout",
     "output_type": "stream",
     "text": [
      "Confusion Matrix:\n",
      "[[1537   58]\n",
      " [ 209  196]]\n",
      "Accuracy: 0.8665\n"
     ]
    }
   ],
   "source": [
    "from sklearn.metrics import confusion_matrix, accuracy_score\n",
    "\n",
    "# Assuming you have predicted labels 'y_pred' and actual labels 'y_true'\n",
    "cm = confusion_matrix(y_test, y_pred)\n",
    "accuracy = accuracy_score(y_test, y_pred)\n",
    "\n",
    "print(\"Confusion Matrix:\")\n",
    "print(cm)\n",
    "print(\"Accuracy:\", accuracy)"
   ]
  }
 ],
 "metadata": {
  "colab": {
   "collapsed_sections": [],
   "name": "artificial_neural_network.ipynb",
   "provenance": [],
   "toc_visible": true
  },
  "kernelspec": {
   "display_name": "Python 3 (ipykernel)",
   "language": "python",
   "name": "python3"
  },
  "language_info": {
   "codemirror_mode": {
    "name": "ipython",
    "version": 3
   },
   "file_extension": ".py",
   "mimetype": "text/x-python",
   "name": "python",
   "nbconvert_exporter": "python",
   "pygments_lexer": "ipython3",
   "version": "3.11.3"
  }
 },
 "nbformat": 4,
 "nbformat_minor": 4
}
