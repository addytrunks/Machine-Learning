{
 "cells": [
  {
   "cell_type": "code",
   "execution_count": 5,
   "id": "ea1683be-084a-42b4-af00-3e832a3944d8",
   "metadata": {},
   "outputs": [],
   "source": [
    "import nltk"
   ]
  },
  {
   "cell_type": "code",
   "execution_count": 6,
   "id": "1bffaa1b-7b8a-4dae-8822-5b6cc3819b0a",
   "metadata": {},
   "outputs": [],
   "source": [
    "from nltk.stem import PorterStemmer"
   ]
  },
  {
   "cell_type": "markdown",
   "id": "7998ac9c-a3be-4c42-8fbc-9f48df771743",
   "metadata": {},
   "source": [
    "## Stemming"
   ]
  },
  {
   "cell_type": "code",
   "execution_count": 7,
   "id": "fbd7128c-c49c-4c1d-be59-a7481ee013ab",
   "metadata": {},
   "outputs": [],
   "source": [
    "porter = PorterStemmer()"
   ]
  },
  {
   "cell_type": "code",
   "execution_count": 8,
   "id": "b6daae28-b18a-481c-be42-34e6b14a8dea",
   "metadata": {},
   "outputs": [
    {
     "data": {
      "text/plain": [
       "('walk', 'walk', 'walk')"
      ]
     },
     "execution_count": 8,
     "metadata": {},
     "output_type": "execute_result"
    }
   ],
   "source": [
    "porter.stem(\"walking\"),porter.stem(\"walked\"),porter.stem('walk')"
   ]
  },
  {
   "cell_type": "code",
   "execution_count": 9,
   "id": "35175654-8c8f-4369-8067-a7e92666951e",
   "metadata": {},
   "outputs": [
    {
     "data": {
      "text/plain": [
       "('replac', 'replac')"
      ]
     },
     "execution_count": 9,
     "metadata": {},
     "output_type": "execute_result"
    }
   ],
   "source": [
    "porter.stem('replacement'),porter.stem('replace')"
   ]
  },
  {
   "cell_type": "code",
   "execution_count": 10,
   "id": "070839c3-3201-4320-81cc-35ce9ce64626",
   "metadata": {},
   "outputs": [
    {
     "data": {
      "text/plain": [
       "('boss', 'boss')"
      ]
     },
     "execution_count": 10,
     "metadata": {},
     "output_type": "execute_result"
    }
   ],
   "source": [
    "porter.stem('boss'),porter.stem('bosses')"
   ]
  },
  {
   "cell_type": "code",
   "execution_count": 11,
   "id": "e72faadf-e33a-48f1-82db-0f72db6c6bff",
   "metadata": {},
   "outputs": [
    {
     "data": {
      "text/plain": [
       "'unecessari'"
      ]
     },
     "execution_count": 11,
     "metadata": {},
     "output_type": "execute_result"
    }
   ],
   "source": [
    "porter.stem('unecessary')"
   ]
  },
  {
   "cell_type": "code",
   "execution_count": 12,
   "id": "68319bc6-4452-479c-9848-351f069c6739",
   "metadata": {},
   "outputs": [
    {
     "data": {
      "text/plain": [
       "'berri'"
      ]
     },
     "execution_count": 12,
     "metadata": {},
     "output_type": "execute_result"
    }
   ],
   "source": [
    "porter.stem('berry')"
   ]
  },
  {
   "cell_type": "markdown",
   "id": "6d5222c4-c4ef-4c7d-958a-fdd38f70cfa5",
   "metadata": {},
   "source": [
    "## Lemmitization"
   ]
  },
  {
   "cell_type": "code",
   "execution_count": 20,
   "id": "58de5a80-23c5-45af-b925-52ffee2f97ea",
   "metadata": {},
   "outputs": [
    {
     "name": "stderr",
     "output_type": "stream",
     "text": [
      "[nltk_data] Downloading package wordnet to\n",
      "[nltk_data]     C:\\Users\\adhri\\AppData\\Roaming\\nltk_data...\n",
      "[nltk_data]   Package wordnet is already up-to-date!\n",
      "[nltk_data] Downloading package omw-1.4 to\n",
      "[nltk_data]     C:\\Users\\adhri\\AppData\\Roaming\\nltk_data...\n"
     ]
    },
    {
     "data": {
      "text/plain": [
       "True"
      ]
     },
     "execution_count": 20,
     "metadata": {},
     "output_type": "execute_result"
    }
   ],
   "source": [
    "nltk.download('wordnet')\n",
    "nltk.download('omw-1.4')"
   ]
  },
  {
   "cell_type": "code",
   "execution_count": 21,
   "id": "0dfae409-45c3-456a-ab0d-460a05d1d010",
   "metadata": {},
   "outputs": [],
   "source": [
    "from nltk.corpus import wordnet\n",
    "from nltk.stem import WordNetLemmatizer"
   ]
  },
  {
   "cell_type": "code",
   "execution_count": 22,
   "id": "a803ac76-48f5-4759-861e-bfe68f339950",
   "metadata": {},
   "outputs": [],
   "source": [
    "lemmatizer = WordNetLemmatizer()"
   ]
  },
  {
   "cell_type": "code",
   "execution_count": 26,
   "id": "631c94f8-47df-4634-8715-07bdfdf3909b",
   "metadata": {},
   "outputs": [
    {
     "data": {
      "text/plain": [
       "('walking', 'walk')"
      ]
     },
     "execution_count": 26,
     "metadata": {},
     "output_type": "execute_result"
    }
   ],
   "source": [
    "lemmatizer.lemmatize('walking'),lemmatizer.lemmatize(\"walking\", pos=wordnet.VERB)"
   ]
  },
  {
   "cell_type": "code",
   "execution_count": 29,
   "id": "24b93662-29bf-42d8-95ad-bf39678986e5",
   "metadata": {},
   "outputs": [
    {
     "data": {
      "text/plain": [
       "('run', 'run')"
      ]
     },
     "execution_count": 29,
     "metadata": {},
     "output_type": "execute_result"
    }
   ],
   "source": [
    "lemmatizer.lemmatize('running',pos=wordnet.VERB),lemmatizer.lemmatize(\"ran\", pos=wordnet.VERB)"
   ]
  },
  {
   "cell_type": "code",
   "execution_count": 30,
   "id": "206cbbb5-7f4b-4d5d-92a0-ca084e68b0b4",
   "metadata": {},
   "outputs": [
    {
     "data": {
      "text/plain": [
       "('mice', 'mouse')"
      ]
     },
     "execution_count": 30,
     "metadata": {},
     "output_type": "execute_result"
    }
   ],
   "source": [
    "porter.stem(\"mice\"),lemmatizer.lemmatize(\"mice\")"
   ]
  },
  {
   "cell_type": "code",
   "execution_count": 40,
   "id": "a6ca8944-4ffc-495e-9dd9-b3aea942a3a5",
   "metadata": {},
   "outputs": [
    {
     "data": {
      "text/plain": [
       "('better', 'good')"
      ]
     },
     "execution_count": 40,
     "metadata": {},
     "output_type": "execute_result"
    }
   ],
   "source": [
    "porter.stem('better'),lemmatizer.lemmatize('better',pos=wordnet.ADJ)"
   ]
  },
  {
   "cell_type": "code",
   "execution_count": 41,
   "id": "998ed5ae-2999-46ed-8e0a-88399ab19e02",
   "metadata": {},
   "outputs": [],
   "source": [
    "def get_wordnet_pos(treebank_tag):\n",
    "  if treebank_tag.startswith('J'):\n",
    "    return wordnet.ADJ\n",
    "  elif treebank_tag.startswith('V'):\n",
    "    return wordnet.VERB\n",
    "  elif treebank_tag.startswith('N'):\n",
    "    return wordnet.NOUN\n",
    "  elif treebank_tag.startswith('R'):\n",
    "    return wordnet.ADV\n",
    "  else:\n",
    "    return wordnet.NOUN"
   ]
  },
  {
   "cell_type": "code",
   "execution_count": 42,
   "id": "aade2cc9-0212-4486-90e9-ceaf64929bbd",
   "metadata": {},
   "outputs": [
    {
     "name": "stderr",
     "output_type": "stream",
     "text": [
      "[nltk_data] Downloading package averaged_perceptron_tagger to\n",
      "[nltk_data]     C:\\Users\\adhri\\AppData\\Roaming\\nltk_data...\n",
      "[nltk_data]   Unzipping taggers\\averaged_perceptron_tagger.zip.\n"
     ]
    },
    {
     "data": {
      "text/plain": [
       "True"
      ]
     },
     "execution_count": 42,
     "metadata": {},
     "output_type": "execute_result"
    }
   ],
   "source": [
    "'''The averaged_perceptron_tagger is a pre-trained POS tagger model that has been trained on a large corpus of text. \n",
    "    This model is used to assign POS tags to tokens in a text.\n",
    "'''\n",
    "nltk.download('averaged_perceptron_tagger')"
   ]
  },
  {
   "cell_type": "code",
   "execution_count": 63,
   "id": "af70a30e-3604-4262-993a-0e6bb5bcce89",
   "metadata": {},
   "outputs": [],
   "source": [
    "sentence = \"I ran\".split()"
   ]
  },
  {
   "cell_type": "code",
   "execution_count": 64,
   "id": "e73e1610-a8ce-4e7e-b8e9-85235b356d0e",
   "metadata": {},
   "outputs": [
    {
     "data": {
      "text/plain": [
       "[('I', 'PRP'), ('ran', 'VBD')]"
      ]
     },
     "execution_count": 64,
     "metadata": {},
     "output_type": "execute_result"
    }
   ],
   "source": [
    "words_and_tags = nltk.pos_tag(sentence)\n",
    "words_and_tags"
   ]
  },
  {
   "cell_type": "code",
   "execution_count": 65,
   "id": "87e7c266-9a3a-42d9-81e6-2dd934de2414",
   "metadata": {},
   "outputs": [
    {
     "name": "stdout",
     "output_type": "stream",
     "text": [
      "I run "
     ]
    }
   ],
   "source": [
    "for word, tag in words_and_tags:\n",
    "  lemma = lemmatizer.lemmatize(word, pos=get_wordnet_pos(tag))\n",
    "  print(lemma, end=\" \")"
   ]
  }
 ],
 "metadata": {
  "kernelspec": {
   "display_name": "Python 3 (ipykernel)",
   "language": "python",
   "name": "python3"
  },
  "language_info": {
   "codemirror_mode": {
    "name": "ipython",
    "version": 3
   },
   "file_extension": ".py",
   "mimetype": "text/x-python",
   "name": "python",
   "nbconvert_exporter": "python",
   "pygments_lexer": "ipython3",
   "version": "3.11.3"
  }
 },
 "nbformat": 4,
 "nbformat_minor": 5
}
