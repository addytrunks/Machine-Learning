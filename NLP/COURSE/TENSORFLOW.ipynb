{
 "cells": [
  {
   "cell_type": "code",
   "execution_count": 22,
   "id": "64a66c78-ab18-40cc-9eb3-e1afdc9fda0c",
   "metadata": {},
   "outputs": [],
   "source": [
    "import numpy as np\n",
    "import pandas as pd\n",
    "import seaborn as sn\n",
    "import tensorflow as tf\n",
    "import matplotlib.pyplot as plt\n",
    "from sklearn.model_selection import train_test_split\n",
    "from sklearn.feature_extraction.text import TfidfVectorizer\n",
    "from sklearn.metrics import roc_auc_score, f1_score, confusion_matrix\n",
    "\n",
    "from tensorflow.keras.layers import Dense, Input\n",
    "from tensorflow.keras.models import Model\n",
    "from tensorflow.keras.losses import BinaryCrossentropy\n",
    "from tensorflow.keras.optimizers import Adam"
   ]
  },
  {
   "cell_type": "code",
   "execution_count": 23,
   "id": "98a1b002-8ee9-446f-bebe-efd0d8310349",
   "metadata": {},
   "outputs": [
    {
     "data": {
      "text/html": [
       "<div>\n",
       "<style scoped>\n",
       "    .dataframe tbody tr th:only-of-type {\n",
       "        vertical-align: middle;\n",
       "    }\n",
       "\n",
       "    .dataframe tbody tr th {\n",
       "        vertical-align: top;\n",
       "    }\n",
       "\n",
       "    .dataframe thead th {\n",
       "        text-align: right;\n",
       "    }\n",
       "</style>\n",
       "<table border=\"1\" class=\"dataframe\">\n",
       "  <thead>\n",
       "    <tr style=\"text-align: right;\">\n",
       "      <th></th>\n",
       "      <th>tweet_id</th>\n",
       "      <th>airline_sentiment</th>\n",
       "      <th>airline_sentiment_confidence</th>\n",
       "      <th>negativereason</th>\n",
       "      <th>negativereason_confidence</th>\n",
       "      <th>airline</th>\n",
       "      <th>airline_sentiment_gold</th>\n",
       "      <th>name</th>\n",
       "      <th>negativereason_gold</th>\n",
       "      <th>retweet_count</th>\n",
       "      <th>text</th>\n",
       "      <th>tweet_coord</th>\n",
       "      <th>tweet_created</th>\n",
       "      <th>tweet_location</th>\n",
       "      <th>user_timezone</th>\n",
       "    </tr>\n",
       "  </thead>\n",
       "  <tbody>\n",
       "    <tr>\n",
       "      <th>0</th>\n",
       "      <td>570306133677760513</td>\n",
       "      <td>neutral</td>\n",
       "      <td>1.0000</td>\n",
       "      <td>NaN</td>\n",
       "      <td>NaN</td>\n",
       "      <td>Virgin America</td>\n",
       "      <td>NaN</td>\n",
       "      <td>cairdin</td>\n",
       "      <td>NaN</td>\n",
       "      <td>0</td>\n",
       "      <td>@VirginAmerica What @dhepburn said.</td>\n",
       "      <td>NaN</td>\n",
       "      <td>2015-02-24 11:35:52 -0800</td>\n",
       "      <td>NaN</td>\n",
       "      <td>Eastern Time (US &amp; Canada)</td>\n",
       "    </tr>\n",
       "    <tr>\n",
       "      <th>1</th>\n",
       "      <td>570301130888122368</td>\n",
       "      <td>positive</td>\n",
       "      <td>0.3486</td>\n",
       "      <td>NaN</td>\n",
       "      <td>0.0000</td>\n",
       "      <td>Virgin America</td>\n",
       "      <td>NaN</td>\n",
       "      <td>jnardino</td>\n",
       "      <td>NaN</td>\n",
       "      <td>0</td>\n",
       "      <td>@VirginAmerica plus you've added commercials t...</td>\n",
       "      <td>NaN</td>\n",
       "      <td>2015-02-24 11:15:59 -0800</td>\n",
       "      <td>NaN</td>\n",
       "      <td>Pacific Time (US &amp; Canada)</td>\n",
       "    </tr>\n",
       "    <tr>\n",
       "      <th>2</th>\n",
       "      <td>570301083672813571</td>\n",
       "      <td>neutral</td>\n",
       "      <td>0.6837</td>\n",
       "      <td>NaN</td>\n",
       "      <td>NaN</td>\n",
       "      <td>Virgin America</td>\n",
       "      <td>NaN</td>\n",
       "      <td>yvonnalynn</td>\n",
       "      <td>NaN</td>\n",
       "      <td>0</td>\n",
       "      <td>@VirginAmerica I didn't today... Must mean I n...</td>\n",
       "      <td>NaN</td>\n",
       "      <td>2015-02-24 11:15:48 -0800</td>\n",
       "      <td>Lets Play</td>\n",
       "      <td>Central Time (US &amp; Canada)</td>\n",
       "    </tr>\n",
       "    <tr>\n",
       "      <th>3</th>\n",
       "      <td>570301031407624196</td>\n",
       "      <td>negative</td>\n",
       "      <td>1.0000</td>\n",
       "      <td>Bad Flight</td>\n",
       "      <td>0.7033</td>\n",
       "      <td>Virgin America</td>\n",
       "      <td>NaN</td>\n",
       "      <td>jnardino</td>\n",
       "      <td>NaN</td>\n",
       "      <td>0</td>\n",
       "      <td>@VirginAmerica it's really aggressive to blast...</td>\n",
       "      <td>NaN</td>\n",
       "      <td>2015-02-24 11:15:36 -0800</td>\n",
       "      <td>NaN</td>\n",
       "      <td>Pacific Time (US &amp; Canada)</td>\n",
       "    </tr>\n",
       "    <tr>\n",
       "      <th>4</th>\n",
       "      <td>570300817074462722</td>\n",
       "      <td>negative</td>\n",
       "      <td>1.0000</td>\n",
       "      <td>Can't Tell</td>\n",
       "      <td>1.0000</td>\n",
       "      <td>Virgin America</td>\n",
       "      <td>NaN</td>\n",
       "      <td>jnardino</td>\n",
       "      <td>NaN</td>\n",
       "      <td>0</td>\n",
       "      <td>@VirginAmerica and it's a really big bad thing...</td>\n",
       "      <td>NaN</td>\n",
       "      <td>2015-02-24 11:14:45 -0800</td>\n",
       "      <td>NaN</td>\n",
       "      <td>Pacific Time (US &amp; Canada)</td>\n",
       "    </tr>\n",
       "  </tbody>\n",
       "</table>\n",
       "</div>"
      ],
      "text/plain": [
       "             tweet_id airline_sentiment  airline_sentiment_confidence  \\\n",
       "0  570306133677760513           neutral                        1.0000   \n",
       "1  570301130888122368          positive                        0.3486   \n",
       "2  570301083672813571           neutral                        0.6837   \n",
       "3  570301031407624196          negative                        1.0000   \n",
       "4  570300817074462722          negative                        1.0000   \n",
       "\n",
       "  negativereason  negativereason_confidence         airline  \\\n",
       "0            NaN                        NaN  Virgin America   \n",
       "1            NaN                     0.0000  Virgin America   \n",
       "2            NaN                        NaN  Virgin America   \n",
       "3     Bad Flight                     0.7033  Virgin America   \n",
       "4     Can't Tell                     1.0000  Virgin America   \n",
       "\n",
       "  airline_sentiment_gold        name negativereason_gold  retweet_count  \\\n",
       "0                    NaN     cairdin                 NaN              0   \n",
       "1                    NaN    jnardino                 NaN              0   \n",
       "2                    NaN  yvonnalynn                 NaN              0   \n",
       "3                    NaN    jnardino                 NaN              0   \n",
       "4                    NaN    jnardino                 NaN              0   \n",
       "\n",
       "                                                text tweet_coord  \\\n",
       "0                @VirginAmerica What @dhepburn said.         NaN   \n",
       "1  @VirginAmerica plus you've added commercials t...         NaN   \n",
       "2  @VirginAmerica I didn't today... Must mean I n...         NaN   \n",
       "3  @VirginAmerica it's really aggressive to blast...         NaN   \n",
       "4  @VirginAmerica and it's a really big bad thing...         NaN   \n",
       "\n",
       "               tweet_created tweet_location               user_timezone  \n",
       "0  2015-02-24 11:35:52 -0800            NaN  Eastern Time (US & Canada)  \n",
       "1  2015-02-24 11:15:59 -0800            NaN  Pacific Time (US & Canada)  \n",
       "2  2015-02-24 11:15:48 -0800      Lets Play  Central Time (US & Canada)  \n",
       "3  2015-02-24 11:15:36 -0800            NaN  Pacific Time (US & Canada)  \n",
       "4  2015-02-24 11:14:45 -0800            NaN  Pacific Time (US & Canada)  "
      ]
     },
     "execution_count": 23,
     "metadata": {},
     "output_type": "execute_result"
    }
   ],
   "source": [
    "df = pd.read_csv(\"AirlineTweets.csv\")\n",
    "df.head(5)"
   ]
  },
  {
   "cell_type": "code",
   "execution_count": 24,
   "id": "1d7ab1fa-9db2-4c3f-b678-03a9adcfd82a",
   "metadata": {},
   "outputs": [
    {
     "data": {
      "text/html": [
       "<div>\n",
       "<style scoped>\n",
       "    .dataframe tbody tr th:only-of-type {\n",
       "        vertical-align: middle;\n",
       "    }\n",
       "\n",
       "    .dataframe tbody tr th {\n",
       "        vertical-align: top;\n",
       "    }\n",
       "\n",
       "    .dataframe thead th {\n",
       "        text-align: right;\n",
       "    }\n",
       "</style>\n",
       "<table border=\"1\" class=\"dataframe\">\n",
       "  <thead>\n",
       "    <tr style=\"text-align: right;\">\n",
       "      <th></th>\n",
       "      <th>airline_sentiment</th>\n",
       "      <th>text</th>\n",
       "    </tr>\n",
       "  </thead>\n",
       "  <tbody>\n",
       "    <tr>\n",
       "      <th>0</th>\n",
       "      <td>neutral</td>\n",
       "      <td>@VirginAmerica What @dhepburn said.</td>\n",
       "    </tr>\n",
       "    <tr>\n",
       "      <th>1</th>\n",
       "      <td>positive</td>\n",
       "      <td>@VirginAmerica plus you've added commercials t...</td>\n",
       "    </tr>\n",
       "    <tr>\n",
       "      <th>2</th>\n",
       "      <td>neutral</td>\n",
       "      <td>@VirginAmerica I didn't today... Must mean I n...</td>\n",
       "    </tr>\n",
       "    <tr>\n",
       "      <th>3</th>\n",
       "      <td>negative</td>\n",
       "      <td>@VirginAmerica it's really aggressive to blast...</td>\n",
       "    </tr>\n",
       "    <tr>\n",
       "      <th>4</th>\n",
       "      <td>negative</td>\n",
       "      <td>@VirginAmerica and it's a really big bad thing...</td>\n",
       "    </tr>\n",
       "  </tbody>\n",
       "</table>\n",
       "</div>"
      ],
      "text/plain": [
       "  airline_sentiment                                               text\n",
       "0           neutral                @VirginAmerica What @dhepburn said.\n",
       "1          positive  @VirginAmerica plus you've added commercials t...\n",
       "2           neutral  @VirginAmerica I didn't today... Must mean I n...\n",
       "3          negative  @VirginAmerica it's really aggressive to blast...\n",
       "4          negative  @VirginAmerica and it's a really big bad thing..."
      ]
     },
     "execution_count": 24,
     "metadata": {},
     "output_type": "execute_result"
    }
   ],
   "source": [
    "df = df[['airline_sentiment','text']]\n",
    "df.head()"
   ]
  },
  {
   "cell_type": "code",
   "execution_count": 25,
   "id": "e549fecd-7910-4af5-a043-b35976aa20c0",
   "metadata": {},
   "outputs": [
    {
     "data": {
      "text/plain": [
       "<Axes: >"
      ]
     },
     "execution_count": 25,
     "metadata": {},
     "output_type": "execute_result"
    },
    {
     "data": {
      "image/png": "[encoded data removed]",
      "text/plain": [
       "<Figure size 640x480 with 1 Axes>"
      ]
     },
     "metadata": {},
     "output_type": "display_data"
    }
   ],
   "source": [
    "df['airline_sentiment'].hist()"
   ]
  },
  {
   "cell_type": "code",
   "execution_count": 26,
   "id": "dfdfa27d-e36b-40b7-b523-e5b8936122d3",
   "metadata": {},
   "outputs": [
    {
     "data": {
      "text/html": [
       "<div>\n",
       "<style scoped>\n",
       "    .dataframe tbody tr th:only-of-type {\n",
       "        vertical-align: middle;\n",
       "    }\n",
       "\n",
       "    .dataframe tbody tr th {\n",
       "        vertical-align: top;\n",
       "    }\n",
       "\n",
       "    .dataframe thead th {\n",
       "        text-align: right;\n",
       "    }\n",
       "</style>\n",
       "<table border=\"1\" class=\"dataframe\">\n",
       "  <thead>\n",
       "    <tr style=\"text-align: right;\">\n",
       "      <th></th>\n",
       "      <th>airline_sentiment</th>\n",
       "      <th>text</th>\n",
       "    </tr>\n",
       "  </thead>\n",
       "  <tbody>\n",
       "    <tr>\n",
       "      <th>1</th>\n",
       "      <td>positive</td>\n",
       "      <td>@VirginAmerica plus you've added commercials t...</td>\n",
       "    </tr>\n",
       "    <tr>\n",
       "      <th>3</th>\n",
       "      <td>negative</td>\n",
       "      <td>@VirginAmerica it's really aggressive to blast...</td>\n",
       "    </tr>\n",
       "    <tr>\n",
       "      <th>4</th>\n",
       "      <td>negative</td>\n",
       "      <td>@VirginAmerica and it's a really big bad thing...</td>\n",
       "    </tr>\n",
       "    <tr>\n",
       "      <th>5</th>\n",
       "      <td>negative</td>\n",
       "      <td>@VirginAmerica seriously would pay $30 a fligh...</td>\n",
       "    </tr>\n",
       "    <tr>\n",
       "      <th>6</th>\n",
       "      <td>positive</td>\n",
       "      <td>@VirginAmerica yes, nearly every time I fly VX...</td>\n",
       "    </tr>\n",
       "  </tbody>\n",
       "</table>\n",
       "</div>"
      ],
      "text/plain": [
       "  airline_sentiment                                               text\n",
       "1          positive  @VirginAmerica plus you've added commercials t...\n",
       "3          negative  @VirginAmerica it's really aggressive to blast...\n",
       "4          negative  @VirginAmerica and it's a really big bad thing...\n",
       "5          negative  @VirginAmerica seriously would pay $30 a fligh...\n",
       "6          positive  @VirginAmerica yes, nearly every time I fly VX..."
      ]
     },
     "execution_count": 26,
     "metadata": {},
     "output_type": "execute_result"
    }
   ],
   "source": [
    "df = df[df['airline_sentiment']!='neutral'].copy()\n",
    "df.head()"
   ]
  },
  {
   "cell_type": "code",
   "execution_count": 27,
   "id": "4ad8c082-32a8-4d89-8699-8e73c879099d",
   "metadata": {},
   "outputs": [
    {
     "data": {
      "text/html": [
       "<div>\n",
       "<style scoped>\n",
       "    .dataframe tbody tr th:only-of-type {\n",
       "        vertical-align: middle;\n",
       "    }\n",
       "\n",
       "    .dataframe tbody tr th {\n",
       "        vertical-align: top;\n",
       "    }\n",
       "\n",
       "    .dataframe thead th {\n",
       "        text-align: right;\n",
       "    }\n",
       "</style>\n",
       "<table border=\"1\" class=\"dataframe\">\n",
       "  <thead>\n",
       "    <tr style=\"text-align: right;\">\n",
       "      <th></th>\n",
       "      <th>airline_sentiment</th>\n",
       "      <th>text</th>\n",
       "      <th>target</th>\n",
       "    </tr>\n",
       "  </thead>\n",
       "  <tbody>\n",
       "    <tr>\n",
       "      <th>1</th>\n",
       "      <td>positive</td>\n",
       "      <td>@VirginAmerica plus you've added commercials t...</td>\n",
       "      <td>1</td>\n",
       "    </tr>\n",
       "    <tr>\n",
       "      <th>3</th>\n",
       "      <td>negative</td>\n",
       "      <td>@VirginAmerica it's really aggressive to blast...</td>\n",
       "      <td>0</td>\n",
       "    </tr>\n",
       "    <tr>\n",
       "      <th>4</th>\n",
       "      <td>negative</td>\n",
       "      <td>@VirginAmerica and it's a really big bad thing...</td>\n",
       "      <td>0</td>\n",
       "    </tr>\n",
       "    <tr>\n",
       "      <th>5</th>\n",
       "      <td>negative</td>\n",
       "      <td>@VirginAmerica seriously would pay $30 a fligh...</td>\n",
       "      <td>0</td>\n",
       "    </tr>\n",
       "    <tr>\n",
       "      <th>6</th>\n",
       "      <td>positive</td>\n",
       "      <td>@VirginAmerica yes, nearly every time I fly VX...</td>\n",
       "      <td>1</td>\n",
       "    </tr>\n",
       "  </tbody>\n",
       "</table>\n",
       "</div>"
      ],
      "text/plain": [
       "  airline_sentiment                                               text  target\n",
       "1          positive  @VirginAmerica plus you've added commercials t...       1\n",
       "3          negative  @VirginAmerica it's really aggressive to blast...       0\n",
       "4          negative  @VirginAmerica and it's a really big bad thing...       0\n",
       "5          negative  @VirginAmerica seriously would pay $30 a fligh...       0\n",
       "6          positive  @VirginAmerica yes, nearly every time I fly VX...       1"
      ]
     },
     "execution_count": 27,
     "metadata": {},
     "output_type": "execute_result"
    }
   ],
   "source": [
    "target_map = {'positive':1,'negative':0}\n",
    "df['target'] = df['airline_sentiment'].map(target_map)\n",
    "df.head()"
   ]
  },
  {
   "cell_type": "code",
   "execution_count": 28,
   "id": "e49e7346-44d4-4a60-a43b-aab12d25a330",
   "metadata": {},
   "outputs": [],
   "source": [
    "df_train, df_test = train_test_split(df, random_state=42)"
   ]
  },
  {
   "cell_type": "code",
   "execution_count": 29,
   "id": "ff688690-a22e-4752-9eb6-47a29f22a218",
   "metadata": {},
   "outputs": [],
   "source": [
    "vectorizer = TfidfVectorizer(max_features=2000)\n",
    "X_train = vectorizer.fit_transform(df_train['text'])\n",
    "X_test = vectorizer.transform(df_test['text'])"
   ]
  },
  {
   "cell_type": "code",
   "execution_count": 30,
   "id": "cfd48037-6a34-41fe-a7c1-027ae201ff38",
   "metadata": {},
   "outputs": [],
   "source": [
    "# data must not be sparse matrix before passing into tensorflow\n",
    "X_train = X_train.toarray()\n",
    "X_test = X_test.toarray()"
   ]
  },
  {
   "cell_type": "code",
   "execution_count": 31,
   "id": "d46d92bb-3096-44d0-93f5-5d8c614c12fa",
   "metadata": {},
   "outputs": [],
   "source": [
    "Y_train = df_train['target']\n",
    "Y_test = df_test['target']"
   ]
  },
  {
   "cell_type": "code",
   "execution_count": 32,
   "id": "a43649c8-bfb1-4c14-b469-c644d4ef6740",
   "metadata": {},
   "outputs": [],
   "source": [
    "# input dimensions\n",
    "D = X_train.shape[1]"
   ]
  },
  {
   "cell_type": "code",
   "execution_count": 33,
   "id": "403dcc55-1f5d-412c-b295-857d36ba9b94",
   "metadata": {},
   "outputs": [],
   "source": [
    "i = Input(shape=(D,))\n",
    "x = Dense(1)(i)"
   ]
  },
  {
   "cell_type": "code",
   "execution_count": 34,
   "id": "429e1db4-e28a-4855-8d2e-73ca95c63824",
   "metadata": {},
   "outputs": [],
   "source": [
    "model = Model(i,x)"
   ]
  },
  {
   "cell_type": "code",
   "execution_count": 35,
   "id": "16be656e-2af6-4063-919b-ecde35536769",
   "metadata": {},
   "outputs": [
    {
     "name": "stdout",
     "output_type": "stream",
     "text": [
      "Model: \"model_1\"\n",
      "_________________________________________________________________\n",
      " Layer (type)                Output Shape              Param #   \n",
      "=================================================================\n",
      " input_2 (InputLayer)        [(None, 2000)]            0         \n",
      "                                                                 \n",
      " dense_1 (Dense)             (None, 1)                 2001      \n",
      "                                                                 \n",
      "=================================================================\n",
      "Total params: 2001 (7.82 KB)\n",
      "Trainable params: 2001 (7.82 KB)\n",
      "Non-trainable params: 0 (0.00 Byte)\n",
      "_________________________________________________________________\n"
     ]
    }
   ],
   "source": [
    "model.summary()"
   ]
  },
  {
   "cell_type": "code",
   "execution_count": 36,
   "id": "a83ad1e9-942b-4030-963a-4f2d95a6b835",
   "metadata": {},
   "outputs": [],
   "source": [
    "model.compile(\n",
    "  loss=BinaryCrossentropy(from_logits=True),\n",
    "  optimizer=Adam(learning_rate=0.01),\n",
    "  metrics=['accuracy']\n",
    ")"
   ]
  },
  {
   "cell_type": "code",
   "execution_count": 37,
   "id": "4d929041-eead-4d84-848f-45168abf1c97",
   "metadata": {},
   "outputs": [
    {
     "name": "stdout",
     "output_type": "stream",
     "text": [
      "Epoch 1/40\n",
      "68/68 [==============================] - 1s 4ms/step - loss: 0.4998 - accuracy: 0.7920 - val_loss: 0.3965 - val_accuracy: 0.8049\n",
      "Epoch 2/40\n",
      "68/68 [==============================] - 0s 2ms/step - loss: 0.3747 - accuracy: 0.7970 - val_loss: 0.3395 - val_accuracy: 0.8219\n",
      "Epoch 3/40\n",
      "68/68 [==============================] - 0s 2ms/step - loss: 0.3215 - accuracy: 0.8194 - val_loss: 0.3028 - val_accuracy: 0.8416\n",
      "Epoch 4/40\n",
      "68/68 [==============================] - 0s 2ms/step - loss: 0.2842 - accuracy: 0.8456 - val_loss: 0.2773 - val_accuracy: 0.8593\n",
      "Epoch 5/40\n",
      "68/68 [==============================] - 0s 2ms/step - loss: 0.2570 - accuracy: 0.8644 - val_loss: 0.2586 - val_accuracy: 0.8753\n",
      "Epoch 6/40\n",
      "68/68 [==============================] - 0s 2ms/step - loss: 0.2362 - accuracy: 0.8817 - val_loss: 0.2447 - val_accuracy: 0.8870\n",
      "Epoch 7/40\n",
      "68/68 [==============================] - 0s 2ms/step - loss: 0.2199 - accuracy: 0.8925 - val_loss: 0.2340 - val_accuracy: 0.9006\n",
      "Epoch 8/40\n",
      "68/68 [==============================] - 0s 2ms/step - loss: 0.2065 - accuracy: 0.9021 - val_loss: 0.2255 - val_accuracy: 0.9044\n",
      "Epoch 9/40\n",
      "68/68 [==============================] - 0s 2ms/step - loss: 0.1953 - accuracy: 0.9093 - val_loss: 0.2186 - val_accuracy: 0.9085\n",
      "Epoch 10/40\n",
      "68/68 [==============================] - 0s 2ms/step - loss: 0.1858 - accuracy: 0.9157 - val_loss: 0.2132 - val_accuracy: 0.9106\n",
      "Epoch 11/40\n",
      "68/68 [==============================] - 0s 2ms/step - loss: 0.1775 - accuracy: 0.9189 - val_loss: 0.2086 - val_accuracy: 0.9144\n",
      "Epoch 12/40\n",
      "68/68 [==============================] - 0s 2ms/step - loss: 0.1704 - accuracy: 0.9240 - val_loss: 0.2047 - val_accuracy: 0.9161\n",
      "Epoch 13/40\n",
      "68/68 [==============================] - 0s 2ms/step - loss: 0.1641 - accuracy: 0.9280 - val_loss: 0.2018 - val_accuracy: 0.9189\n",
      "Epoch 14/40\n",
      "68/68 [==============================] - 0s 2ms/step - loss: 0.1583 - accuracy: 0.9299 - val_loss: 0.1992 - val_accuracy: 0.9224\n",
      "Epoch 15/40\n",
      "68/68 [==============================] - 0s 2ms/step - loss: 0.1532 - accuracy: 0.9343 - val_loss: 0.1970 - val_accuracy: 0.9217\n",
      "Epoch 16/40\n",
      "68/68 [==============================] - 0s 2ms/step - loss: 0.1485 - accuracy: 0.9376 - val_loss: 0.1952 - val_accuracy: 0.9210\n",
      "Epoch 17/40\n",
      "68/68 [==============================] - 0s 2ms/step - loss: 0.1443 - accuracy: 0.9385 - val_loss: 0.1937 - val_accuracy: 0.9210\n",
      "Epoch 18/40\n",
      "68/68 [==============================] - 0s 2ms/step - loss: 0.1404 - accuracy: 0.9425 - val_loss: 0.1924 - val_accuracy: 0.9210\n",
      "Epoch 19/40\n",
      "68/68 [==============================] - 0s 2ms/step - loss: 0.1367 - accuracy: 0.9426 - val_loss: 0.1914 - val_accuracy: 0.9217\n",
      "Epoch 20/40\n",
      "68/68 [==============================] - 0s 2ms/step - loss: 0.1334 - accuracy: 0.9447 - val_loss: 0.1905 - val_accuracy: 0.9207\n",
      "Epoch 21/40\n",
      "68/68 [==============================] - 0s 2ms/step - loss: 0.1303 - accuracy: 0.9443 - val_loss: 0.1899 - val_accuracy: 0.9213\n",
      "Epoch 22/40\n",
      "68/68 [==============================] - 0s 2ms/step - loss: 0.1273 - accuracy: 0.9470 - val_loss: 0.1893 - val_accuracy: 0.9217\n",
      "Epoch 23/40\n",
      "68/68 [==============================] - 0s 2ms/step - loss: 0.1245 - accuracy: 0.9481 - val_loss: 0.1891 - val_accuracy: 0.9224\n",
      "Epoch 24/40\n",
      "68/68 [==============================] - 0s 2ms/step - loss: 0.1219 - accuracy: 0.9515 - val_loss: 0.1889 - val_accuracy: 0.9217\n",
      "Epoch 25/40\n",
      "68/68 [==============================] - 0s 2ms/step - loss: 0.1195 - accuracy: 0.9503 - val_loss: 0.1887 - val_accuracy: 0.9241\n",
      "Epoch 26/40\n",
      "68/68 [==============================] - 0s 2ms/step - loss: 0.1172 - accuracy: 0.9523 - val_loss: 0.1887 - val_accuracy: 0.9245\n",
      "Epoch 27/40\n",
      "68/68 [==============================] - 0s 2ms/step - loss: 0.1150 - accuracy: 0.9531 - val_loss: 0.1886 - val_accuracy: 0.9252\n",
      "Epoch 28/40\n",
      "68/68 [==============================] - 0s 2ms/step - loss: 0.1130 - accuracy: 0.9546 - val_loss: 0.1888 - val_accuracy: 0.9252\n",
      "Epoch 29/40\n",
      "68/68 [==============================] - 0s 2ms/step - loss: 0.1110 - accuracy: 0.9567 - val_loss: 0.1890 - val_accuracy: 0.9255\n",
      "Epoch 30/40\n",
      "68/68 [==============================] - 0s 2ms/step - loss: 0.1092 - accuracy: 0.9568 - val_loss: 0.1892 - val_accuracy: 0.9262\n",
      "Epoch 31/40\n",
      "68/68 [==============================] - 0s 2ms/step - loss: 0.1074 - accuracy: 0.9582 - val_loss: 0.1896 - val_accuracy: 0.9252\n",
      "Epoch 32/40\n",
      "68/68 [==============================] - 0s 2ms/step - loss: 0.1056 - accuracy: 0.9586 - val_loss: 0.1899 - val_accuracy: 0.9245\n",
      "Epoch 33/40\n",
      "68/68 [==============================] - 0s 2ms/step - loss: 0.1040 - accuracy: 0.9581 - val_loss: 0.1903 - val_accuracy: 0.9238\n",
      "Epoch 34/40\n",
      "68/68 [==============================] - 0s 2ms/step - loss: 0.1025 - accuracy: 0.9612 - val_loss: 0.1909 - val_accuracy: 0.9241\n",
      "Epoch 35/40\n",
      "68/68 [==============================] - 0s 2ms/step - loss: 0.1009 - accuracy: 0.9594 - val_loss: 0.1915 - val_accuracy: 0.9231\n",
      "Epoch 36/40\n",
      "68/68 [==============================] - 0s 2ms/step - loss: 0.0995 - accuracy: 0.9629 - val_loss: 0.1919 - val_accuracy: 0.9227\n",
      "Epoch 37/40\n",
      "68/68 [==============================] - 0s 2ms/step - loss: 0.0981 - accuracy: 0.9626 - val_loss: 0.1925 - val_accuracy: 0.9224\n",
      "Epoch 38/40\n",
      "68/68 [==============================] - 0s 2ms/step - loss: 0.0968 - accuracy: 0.9637 - val_loss: 0.1930 - val_accuracy: 0.9224\n",
      "Epoch 39/40\n",
      "68/68 [==============================] - 0s 2ms/step - loss: 0.0956 - accuracy: 0.9636 - val_loss: 0.1936 - val_accuracy: 0.9224\n",
      "Epoch 40/40\n",
      "68/68 [==============================] - 0s 2ms/step - loss: 0.0943 - accuracy: 0.9651 - val_loss: 0.1944 - val_accuracy: 0.9220\n"
     ]
    }
   ],
   "source": [
    "r = model.fit(\n",
    "  X_train, Y_train,\n",
    "  validation_data=(X_test, Y_test),\n",
    "  epochs=40,\n",
    "  batch_size=128,\n",
    ")"
   ]
  },
  {
   "cell_type": "code",
   "execution_count": 38,
   "id": "1cfbbdb5-a9fc-49ce-85d2-6a6244f46e15",
   "metadata": {},
   "outputs": [
    {
     "data": {
      "image/png": "[encoded data removed]",
      "text/plain": [
       "<Figure size 640x480 with 1 Axes>"
      ]
     },
     "metadata": {},
     "output_type": "display_data"
    }
   ],
   "source": [
    "# Plot loss per iteration\n",
    "plt.plot(r.history['loss'], label='train loss')\n",
    "plt.plot(r.history['val_loss'], label='val loss')\n",
    "plt.legend();"
   ]
  },
  {
   "cell_type": "code",
   "execution_count": 39,
   "id": "9c6d360d-3db9-45ea-a3bc-b8381ae25bbe",
   "metadata": {},
   "outputs": [
    {
     "name": "stdout",
     "output_type": "stream",
     "text": [
      "271/271 [==============================] - 0s 600us/step\n",
      "91/91 [==============================] - 0s 752us/step\n"
     ]
    }
   ],
   "source": [
    "P_train = ((model.predict(X_train) > 0) * 1.0).flatten()\n",
    "P_test = ((model.predict(X_test) > 0) * 1.0).flatten()"
   ]
  },
  {
   "cell_type": "code",
   "execution_count": 40,
   "id": "79d113a6-08f0-4989-9f23-cfa391468d79",
   "metadata": {},
   "outputs": [
    {
     "data": {
      "text/plain": [
       "array([[0.99008023, 0.00991977],\n",
       "       [0.09277778, 0.90722222]])"
      ]
     },
     "execution_count": 40,
     "metadata": {},
     "output_type": "execute_result"
    }
   ],
   "source": [
    "cm = confusion_matrix(Y_train, P_train, normalize='true')\n",
    "cm"
   ]
  },
  {
   "cell_type": "code",
   "execution_count": null,
   "id": "4d9ea8b7-07be-479a-8fd8-8388f969f319",
   "metadata": {},
   "outputs": [],
   "source": []
  }
 ],
 "metadata": {
  "kernelspec": {
   "display_name": "Python 3 (ipykernel)",
   "language": "python",
   "name": "python3"
  },
  "language_info": {
   "codemirror_mode": {
    "name": "ipython",
    "version": 3
   },
   "file_extension": ".py",
   "mimetype": "text/x-python",
   "name": "python",
   "nbconvert_exporter": "python",
   "pygments_lexer": "ipython3",
   "version": "3.11.3"
  }
 },
 "nbformat": 4,
 "nbformat_minor": 5
}
